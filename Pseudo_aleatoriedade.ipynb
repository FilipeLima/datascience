{
  "nbformat": 4,
  "nbformat_minor": 0,
  "metadata": {
    "colab": {
      "name": "Pseudo aleatoriedade",
      "provenance": [],
      "collapsed_sections": []
    },
    "kernelspec": {
      "name": "python3",
      "display_name": "Python 3"
    }
  },
  "cells": [
    {
      "cell_type": "code",
      "metadata": {
        "id": "ZlO2lOh3N0Tg",
        "colab": {
          "base_uri": "https://localhost:8080/"
        },
        "outputId": "46264a67-172f-4f81-a332-127f5e353daf"
      },
      "source": [
        "import numpy as np\n",
        "\n",
        "np.random.rand()"
      ],
      "execution_count": null,
      "outputs": [
        {
          "output_type": "execute_result",
          "data": {
            "text/plain": [
              "0.2565472028882839"
            ]
          },
          "metadata": {
            "tags": []
          },
          "execution_count": 1
        }
      ]
    },
    {
      "cell_type": "markdown",
      "metadata": {
        "id": "q1bQCtj1WMr1"
      },
      "source": [
        "Von Neumann - Middle-square method"
      ]
    },
    {
      "cell_type": "code",
      "metadata": {
        "id": "bq-ohAXOPIC6"
      },
      "source": [
        "# semente = 5 # momoento que o primeiro rand é rodado\n",
        "# formula(x) = x * 3 / 2\n",
        "# formula(5) = 7.5\n",
        "# formula(7.5) = 11.25"
      ],
      "execution_count": null,
      "outputs": []
    },
    {
      "cell_type": "code",
      "metadata": {
        "id": "iLk0cfiBQpkQ",
        "colab": {
          "base_uri": "https://localhost:8080/"
        },
        "outputId": "c0a4bc11-17b0-4d96-d083-1f3394bf2004"
      },
      "source": [
        "5*3/2"
      ],
      "execution_count": null,
      "outputs": [
        {
          "output_type": "execute_result",
          "data": {
            "text/plain": [
              "7.5"
            ]
          },
          "metadata": {
            "tags": []
          },
          "execution_count": 2
        }
      ]
    },
    {
      "cell_type": "code",
      "metadata": {
        "id": "BPpK-g0gQqdm",
        "colab": {
          "base_uri": "https://localhost:8080/"
        },
        "outputId": "4721dbcc-f9e2-4cff-8d86-207d5a807001"
      },
      "source": [
        "7.5*3/2"
      ],
      "execution_count": null,
      "outputs": [
        {
          "output_type": "execute_result",
          "data": {
            "text/plain": [
              "11.25"
            ]
          },
          "metadata": {
            "tags": []
          },
          "execution_count": 3
        }
      ]
    },
    {
      "cell_type": "code",
      "metadata": {
        "id": "RUxgeL6TQrT5"
      },
      "source": [
        "seed = 150\n",
        "# 12345\n",
        "# 90000*90000\n",
        "# 8100000000\n",
        "\n",
        "def middle_square():\n",
        "  global seed\n",
        "  result = seed * seed\n",
        "  result = \"{0:08d}\".format(result)\n",
        "  result = result[2:6]\n",
        "  # print(result)\n",
        "  result = int(result)\n",
        "  seed = result\n",
        "  return result"
      ],
      "execution_count": null,
      "outputs": []
    },
    {
      "cell_type": "code",
      "metadata": {
        "id": "oihDkv4zRk66",
        "colab": {
          "base_uri": "https://localhost:8080/"
        },
        "outputId": "3b95e424-bee4-4168-e071-814572af829a"
      },
      "source": [
        "print(middle_square())\n",
        "print(middle_square())\n",
        "print(middle_square())\n",
        "print(middle_square())\n",
        "print(middle_square())"
      ],
      "execution_count": null,
      "outputs": [
        {
          "output_type": "stream",
          "text": [
            "225\n",
            "506\n",
            "2560\n",
            "5536\n",
            "6472\n"
          ],
          "name": "stdout"
        }
      ]
    },
    {
      "cell_type": "code",
      "metadata": {
        "id": "HzHl4iz-RrpZ"
      },
      "source": [
        "from tqdm import tqdm\n",
        "import pandas as pd\n",
        "import matplotlib.pyplot as plt\n",
        "\n",
        "\n",
        "def test_random(pseudo_random_generator):\n",
        "  results = np.array([pseudo_random_generator() for i in tqdm(range(10000000))])\n",
        "  results = pd.DataFrame(np.array([results]).T, columns=[\"middle_square\"])\n",
        "  print(results.mean())\n",
        "  results.plot(kind='hist')\n",
        "  plt.show()\n",
        "  display(results.value_counts().head())"
      ],
      "execution_count": null,
      "outputs": []
    },
    {
      "cell_type": "code",
      "metadata": {
        "id": "1BF-aR0aaWK4",
        "colab": {
          "base_uri": "https://localhost:8080/",
          "height": 447
        },
        "outputId": "ddaf71a8-0b59-4da7-a1ef-8ec7d30af46e"
      },
      "source": [
        "seed = 150\n",
        "\n",
        "test_random(middle_square)"
      ],
      "execution_count": null,
      "outputs": [
        {
          "output_type": "stream",
          "text": [
            "100%|██████████| 10000000/10000000 [00:10<00:00, 953302.45it/s]\n"
          ],
          "name": "stderr"
        },
        {
          "output_type": "stream",
          "text": [
            "middle_square    5099.997823\n",
            "dtype: float64\n"
          ],
          "name": "stdout"
        },
        {
          "output_type": "display_data",
          "data": {
            "image/png": "[encoded data removed]",
            "text/plain": [
              "<Figure size 432x288 with 1 Axes>"
            ]
          },
          "metadata": {
            "tags": [],
            "needs_background": "light"
          }
        },
        {
          "output_type": "display_data",
          "data": {
            "text/plain": [
              "middle_square\n",
              "4100             2499987\n",
              "6100             2499987\n",
              "8100             2499987\n",
              "2100             2499986\n",
              "3388                   1\n",
              "dtype: int64"
            ]
          },
          "metadata": {
            "tags": []
          }
        }
      ]
    },
    {
      "cell_type": "code",
      "metadata": {
        "id": "8Vi30jb6To1K",
        "colab": {
          "base_uri": "https://localhost:8080/"
        },
        "outputId": "5285b2d7-932b-4cf0-91c0-42b53b974de5"
      },
      "source": [
        "# From https://en.wikipedia.org/wiki/Middle-square_method\n",
        "\n",
        "seed_number = 150\n",
        "\n",
        "number = seed_number\n",
        "already_seen = set()\n",
        "counter = 0\n",
        "\n",
        "while number not in already_seen:\n",
        "    counter += 1\n",
        "    already_seen.add(number)\n",
        "    number = int(str(number * number).zfill(8)[2:6])  # zfill adds padding of zeroes\n",
        "    print(f\"#{counter}: {number}\")\n",
        "\n",
        "print(f\"We began with {seed_number}, and\"\n",
        "      f\" have repeated ourselves after {counter} steps\"\n",
        "      f\" with {number}.\")"
      ],
      "execution_count": null,
      "outputs": [
        {
          "output_type": "stream",
          "text": [
            "#1: 225\n",
            "#2: 506\n",
            "#3: 2560\n",
            "#4: 5536\n",
            "#5: 6472\n",
            "#6: 8867\n",
            "#7: 6236\n",
            "#8: 8876\n",
            "#9: 7833\n",
            "#10: 3558\n",
            "#11: 6593\n",
            "#12: 4676\n",
            "#13: 8649\n",
            "#14: 8052\n",
            "#15: 8347\n",
            "#16: 6724\n",
            "#17: 2121\n",
            "#18: 4986\n",
            "#19: 8601\n",
            "#20: 9772\n",
            "#21: 4919\n",
            "#22: 1965\n",
            "#23: 8612\n",
            "#24: 1665\n",
            "#25: 7722\n",
            "#26: 6292\n",
            "#27: 5892\n",
            "#28: 7156\n",
            "#29: 2083\n",
            "#30: 3388\n",
            "#31: 4785\n",
            "#32: 8962\n",
            "#33: 3174\n",
            "#34: 742\n",
            "#35: 5505\n",
            "#36: 3050\n",
            "#37: 3025\n",
            "#38: 1506\n",
            "#39: 2680\n",
            "#40: 1824\n",
            "#41: 3269\n",
            "#42: 6863\n",
            "#43: 1007\n",
            "#44: 140\n",
            "#45: 196\n",
            "#46: 384\n",
            "#47: 1474\n",
            "#48: 1726\n",
            "#49: 9790\n",
            "#50: 8441\n",
            "#51: 2504\n",
            "#52: 2700\n",
            "#53: 2900\n",
            "#54: 4100\n",
            "#55: 8100\n",
            "#56: 6100\n",
            "#57: 2100\n",
            "#58: 4100\n",
            "We began with 150, and have repeated ourselves after 58 steps with 4100.\n"
          ],
          "name": "stdout"
        }
      ]
    },
    {
      "cell_type": "code",
      "metadata": {
        "id": "QuDRIHhjU0Q8"
      },
      "source": [
        "x = 0\n",
        "weil_counter = 0\n",
        "k = int(\"0xb5ad4eceda1ce2a9\", 0)\n",
        "\n",
        "def msws():\n",
        "  global x, weil_counter, k\n",
        "  result = x * x\n",
        "  weil_counter += k\n",
        "  result += weil_counter\n",
        "  result = str(result).zfill(8)\n",
        "  result = result[2:6]\n",
        "  # print(result)\n",
        "  result = int(result)\n",
        "  x = result\n",
        "  return result"
      ],
      "execution_count": null,
      "outputs": []
    },
    {
      "cell_type": "code",
      "metadata": {
        "id": "4lbYR9QPZ65C",
        "colab": {
          "base_uri": "https://localhost:8080/"
        },
        "outputId": "c9d3b62b-944d-43d5-b287-1822eb53a62b"
      },
      "source": [
        "k"
      ],
      "execution_count": null,
      "outputs": [
        {
          "output_type": "execute_result",
          "data": {
            "text/plain": [
              "13091206342165455529"
            ]
          },
          "metadata": {
            "tags": []
          },
          "execution_count": 82
        }
      ]
    },
    {
      "cell_type": "code",
      "metadata": {
        "id": "7OcZoJFIaDPr",
        "colab": {
          "base_uri": "https://localhost:8080/",
          "height": 447
        },
        "outputId": "c842f056-b6ef-4b90-c414-21f0bb66479b"
      },
      "source": [
        "test_random(msws)"
      ],
      "execution_count": null,
      "outputs": [
        {
          "output_type": "stream",
          "text": [
            "100%|██████████| 10000000/10000000 [00:11<00:00, 844851.86it/s]\n"
          ],
          "name": "stderr"
        },
        {
          "output_type": "stream",
          "text": [
            "middle_square    4967.842999\n",
            "dtype: float64\n"
          ],
          "name": "stdout"
        },
        {
          "output_type": "display_data",
          "data": {
            "image/png": "[encoded data removed]",
            "text/plain": [
              "<Figure size 432x288 with 1 Axes>"
            ]
          },
          "metadata": {
            "tags": [],
            "needs_background": "light"
          }
        },
        {
          "output_type": "display_data",
          "data": {
            "text/plain": [
              "middle_square\n",
              "776              1079\n",
              "658              1078\n",
              "632              1077\n",
              "552              1077\n",
              "493              1077\n",
              "dtype: int64"
            ]
          },
          "metadata": {
            "tags": []
          }
        }
      ]
    },
    {
      "cell_type": "code",
      "metadata": {
        "id": "Xf1_5EF_aizz"
      },
      "source": [
        ""
      ],
      "execution_count": null,
      "outputs": []
    }
  ]
}
