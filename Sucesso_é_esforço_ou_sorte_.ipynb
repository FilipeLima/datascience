{
  "nbformat": 4,
  "nbformat_minor": 0,
  "metadata": {
    "colab": {
      "name": "Sucesso é esforço ou sorte?",
      "provenance": [],
      "collapsed_sections": []
    },
    "kernelspec": {
      "name": "python3",
      "display_name": "Python 3"
    }
  },
  "cells": [
    {
      "cell_type": "code",
      "metadata": {
        "id": "pcrKQGQtfwhM",
        "outputId": "d24a87f8-acf8-458c-951f-d02774135dd3",
        "colab": {
          "base_uri": "https://localhost:8080/",
          "height": 157
        }
      },
      "source": [
        "!pip install tabula-py"
      ],
      "execution_count": 94,
      "outputs": [
        {
          "output_type": "stream",
          "text": [
            "Requirement already satisfied: tabula-py in /usr/local/lib/python3.6/dist-packages (2.2.0)\n",
            "Requirement already satisfied: numpy in /usr/local/lib/python3.6/dist-packages (from tabula-py) (1.18.5)\n",
            "Requirement already satisfied: pandas>=0.25.3 in /usr/local/lib/python3.6/dist-packages (from tabula-py) (1.1.3)\n",
            "Requirement already satisfied: distro in /usr/local/lib/python3.6/dist-packages (from tabula-py) (1.5.0)\n",
            "Requirement already satisfied: python-dateutil>=2.7.3 in /usr/local/lib/python3.6/dist-packages (from pandas>=0.25.3->tabula-py) (2.8.1)\n",
            "Requirement already satisfied: pytz>=2017.2 in /usr/local/lib/python3.6/dist-packages (from pandas>=0.25.3->tabula-py) (2018.9)\n",
            "Requirement already satisfied: six>=1.5 in /usr/local/lib/python3.6/dist-packages (from python-dateutil>=2.7.3->pandas>=0.25.3->tabula-py) (1.15.0)\n"
          ],
          "name": "stdout"
        }
      ]
    },
    {
      "cell_type": "code",
      "metadata": {
        "id": "w844pepzipVl"
      },
      "source": [
        "import pandas as pd"
      ],
      "execution_count": 95,
      "outputs": []
    },
    {
      "cell_type": "code",
      "metadata": {
        "id": "B5s1XrRoirNc",
        "outputId": "bcf63c5d-232e-4cc3-c8fc-60fbcb69886d",
        "colab": {
          "base_uri": "https://localhost:8080/",
          "height": 34
        }
      },
      "source": [
        "import tabula\n",
        "\n",
        "dados = tabula.read_pdf(\"https://acervo.fuvest.br/fuvest/2020/inscritos_2020.pdf\",\n",
        "                        pages = \"all\")\n",
        "len(dados)"
      ],
      "execution_count": 96,
      "outputs": [
        {
          "output_type": "execute_result",
          "data": {
            "text/plain": [
              "2"
            ]
          },
          "metadata": {
            "tags": []
          },
          "execution_count": 96
        }
      ]
    },
    {
      "cell_type": "code",
      "metadata": {
        "id": "Tm1DbDd0i3F7",
        "outputId": "29db6e56-f1c2-472c-dcaa-c0868c46bdf8",
        "colab": {
          "base_uri": "https://localhost:8080/",
          "height": 288
        }
      },
      "source": [
        "dados[0].head()"
      ],
      "execution_count": 97,
      "outputs": [
        {
          "output_type": "execute_result",
          "data": {
            "text/html": [
              "<div>\n",
              "<style scoped>\n",
              "    .dataframe tbody tr th:only-of-type {\n",
              "        vertical-align: middle;\n",
              "    }\n",
              "\n",
              "    .dataframe tbody tr th {\n",
              "        vertical-align: top;\n",
              "    }\n",
              "\n",
              "    .dataframe thead th {\n",
              "        text-align: right;\n",
              "    }\n",
              "</style>\n",
              "<table border=\"1\" class=\"dataframe\">\n",
              "  <thead>\n",
              "    <tr style=\"text-align: right;\">\n",
              "      <th></th>\n",
              "      <th>CODIGO</th>\n",
              "      <th>NOME</th>\n",
              "      <th>VAGAS</th>\n",
              "      <th>INSCRITOS</th>\n",
              "      <th>C/V</th>\n",
              "      <th>VAGAS AC</th>\n",
              "      <th>INSCRITOS AC</th>\n",
              "      <th>C/V AC</th>\n",
              "      <th>VAGAS EP</th>\n",
              "      <th>INSCRITOS EP</th>\n",
              "      <th>C/V EP</th>\n",
              "      <th>VAGAS PPI</th>\n",
              "      <th>INSCRITOS PPI</th>\n",
              "      <th>C/V PPI</th>\n",
              "    </tr>\n",
              "  </thead>\n",
              "  <tbody>\n",
              "    <tr>\n",
              "      <th>0</th>\n",
              "      <td>100</td>\n",
              "      <td>Administração, Ciências Contábeis, Economia, E...</td>\n",
              "      <td>187</td>\n",
              "      <td>1562</td>\n",
              "      <td>8,35</td>\n",
              "      <td>93</td>\n",
              "      <td>1165</td>\n",
              "      <td>12,53</td>\n",
              "      <td>59</td>\n",
              "      <td>312</td>\n",
              "      <td>5,29</td>\n",
              "      <td>35</td>\n",
              "      <td>85</td>\n",
              "      <td>2,43</td>\n",
              "    </tr>\n",
              "    <tr>\n",
              "      <th>1</th>\n",
              "      <td>101</td>\n",
              "      <td>Administração - Piracicaba</td>\n",
              "      <td>40</td>\n",
              "      <td>283</td>\n",
              "      <td>7,08</td>\n",
              "      <td>22</td>\n",
              "      <td>196</td>\n",
              "      <td>8,91</td>\n",
              "      <td>11</td>\n",
              "      <td>70</td>\n",
              "      <td>6,36</td>\n",
              "      <td>7</td>\n",
              "      <td>17</td>\n",
              "      <td>2,43</td>\n",
              "    </tr>\n",
              "    <tr>\n",
              "      <th>2</th>\n",
              "      <td>105</td>\n",
              "      <td>Arquitetura - FAU</td>\n",
              "      <td>105</td>\n",
              "      <td>2724</td>\n",
              "      <td>25,94</td>\n",
              "      <td>67</td>\n",
              "      <td>1924</td>\n",
              "      <td>28,72</td>\n",
              "      <td>27</td>\n",
              "      <td>599</td>\n",
              "      <td>22,19</td>\n",
              "      <td>11</td>\n",
              "      <td>201</td>\n",
              "      <td>18,27</td>\n",
              "    </tr>\n",
              "    <tr>\n",
              "      <th>3</th>\n",
              "      <td>110</td>\n",
              "      <td>Arquitetura - São Carlos</td>\n",
              "      <td>31</td>\n",
              "      <td>622</td>\n",
              "      <td>20,06</td>\n",
              "      <td>15</td>\n",
              "      <td>408</td>\n",
              "      <td>27,2</td>\n",
              "      <td>10</td>\n",
              "      <td>178</td>\n",
              "      <td>17,8</td>\n",
              "      <td>6</td>\n",
              "      <td>36</td>\n",
              "      <td>6</td>\n",
              "    </tr>\n",
              "    <tr>\n",
              "      <th>4</th>\n",
              "      <td>115</td>\n",
              "      <td>Artes Cênicas</td>\n",
              "      <td>30</td>\n",
              "      <td>667</td>\n",
              "      <td>22,23</td>\n",
              "      <td>16</td>\n",
              "      <td>411</td>\n",
              "      <td>25,69</td>\n",
              "      <td>8</td>\n",
              "      <td>185</td>\n",
              "      <td>23,13</td>\n",
              "      <td>6</td>\n",
              "      <td>71</td>\n",
              "      <td>11,83</td>\n",
              "    </tr>\n",
              "  </tbody>\n",
              "</table>\n",
              "</div>"
            ],
            "text/plain": [
              "   CODIGO  ... C/V PPI\n",
              "0     100  ...    2,43\n",
              "1     101  ...    2,43\n",
              "2     105  ...   18,27\n",
              "3     110  ...       6\n",
              "4     115  ...   11,83\n",
              "\n",
              "[5 rows x 14 columns]"
            ]
          },
          "metadata": {
            "tags": []
          },
          "execution_count": 97
        }
      ]
    },
    {
      "cell_type": "code",
      "metadata": {
        "id": "oRmik6RKjBqD",
        "outputId": "68630975-83bc-41c6-e67f-7c3782c70aa7",
        "colab": {
          "base_uri": "https://localhost:8080/",
          "height": 203
        }
      },
      "source": [
        "dados[1].head()"
      ],
      "execution_count": 98,
      "outputs": [
        {
          "output_type": "execute_result",
          "data": {
            "text/html": [
              "<div>\n",
              "<style scoped>\n",
              "    .dataframe tbody tr th:only-of-type {\n",
              "        vertical-align: middle;\n",
              "    }\n",
              "\n",
              "    .dataframe tbody tr th {\n",
              "        vertical-align: top;\n",
              "    }\n",
              "\n",
              "    .dataframe thead th {\n",
              "        text-align: right;\n",
              "    }\n",
              "</style>\n",
              "<table border=\"1\" class=\"dataframe\">\n",
              "  <thead>\n",
              "    <tr style=\"text-align: right;\">\n",
              "      <th></th>\n",
              "      <th>500</th>\n",
              "      <th>Medicina</th>\n",
              "      <th>122</th>\n",
              "      <th>15794</th>\n",
              "      <th>129,46</th>\n",
              "      <th>67</th>\n",
              "      <th>11031</th>\n",
              "      <th>164,64</th>\n",
              "      <th>33</th>\n",
              "      <th>3484</th>\n",
              "      <th>105,58</th>\n",
              "      <th>22</th>\n",
              "      <th>1279</th>\n",
              "      <th>58,14</th>\n",
              "    </tr>\n",
              "  </thead>\n",
              "  <tbody>\n",
              "    <tr>\n",
              "      <th>0</th>\n",
              "      <td>501.0</td>\n",
              "      <td>Medicina - Bauru</td>\n",
              "      <td>42</td>\n",
              "      <td>5217</td>\n",
              "      <td>124,21</td>\n",
              "      <td>26</td>\n",
              "      <td>3952</td>\n",
              "      <td>152</td>\n",
              "      <td>8</td>\n",
              "      <td>887</td>\n",
              "      <td>110,88</td>\n",
              "      <td>8</td>\n",
              "      <td>378</td>\n",
              "      <td>47,25</td>\n",
              "    </tr>\n",
              "    <tr>\n",
              "      <th>1</th>\n",
              "      <td>505.0</td>\n",
              "      <td>Medicina - Ribeirão Preto</td>\n",
              "      <td>77</td>\n",
              "      <td>6856</td>\n",
              "      <td>89,04</td>\n",
              "      <td>55</td>\n",
              "      <td>5183</td>\n",
              "      <td>94,24</td>\n",
              "      <td>18</td>\n",
              "      <td>1418</td>\n",
              "      <td>78,78</td>\n",
              "      <td>4</td>\n",
              "      <td>255</td>\n",
              "      <td>63,75</td>\n",
              "    </tr>\n",
              "    <tr>\n",
              "      <th>2</th>\n",
              "      <td>510.0</td>\n",
              "      <td>Medicina Veterinária</td>\n",
              "      <td>56</td>\n",
              "      <td>2403</td>\n",
              "      <td>42,91</td>\n",
              "      <td>38</td>\n",
              "      <td>1607</td>\n",
              "      <td>42,29</td>\n",
              "      <td>11</td>\n",
              "      <td>615</td>\n",
              "      <td>55,91</td>\n",
              "      <td>7</td>\n",
              "      <td>181</td>\n",
              "      <td>25,86</td>\n",
              "    </tr>\n",
              "    <tr>\n",
              "      <th>3</th>\n",
              "      <td>515.0</td>\n",
              "      <td>Medicina Veterinária - Pirassununga</td>\n",
              "      <td>42</td>\n",
              "      <td>906</td>\n",
              "      <td>21,57</td>\n",
              "      <td>24</td>\n",
              "      <td>624</td>\n",
              "      <td>26</td>\n",
              "      <td>10</td>\n",
              "      <td>224</td>\n",
              "      <td>22,4</td>\n",
              "      <td>8</td>\n",
              "      <td>58</td>\n",
              "      <td>7,25</td>\n",
              "    </tr>\n",
              "    <tr>\n",
              "      <th>4</th>\n",
              "      <td>520.0</td>\n",
              "      <td>Nutrição</td>\n",
              "      <td>56</td>\n",
              "      <td>854</td>\n",
              "      <td>15,25</td>\n",
              "      <td>40</td>\n",
              "      <td>600</td>\n",
              "      <td>15</td>\n",
              "      <td>12</td>\n",
              "      <td>203</td>\n",
              "      <td>16,92</td>\n",
              "      <td>4</td>\n",
              "      <td>51</td>\n",
              "      <td>12,75</td>\n",
              "    </tr>\n",
              "  </tbody>\n",
              "</table>\n",
              "</div>"
            ],
            "text/plain": [
              "     500                             Medicina 122  ... 22 1279  58,14\n",
              "0  501.0                     Medicina - Bauru  42  ...  8  378  47,25\n",
              "1  505.0            Medicina - Ribeirão Preto  77  ...  4  255  63,75\n",
              "2  510.0                 Medicina Veterinária  56  ...  7  181  25,86\n",
              "3  515.0  Medicina Veterinária - Pirassununga  42  ...  8   58   7,25\n",
              "4  520.0                             Nutrição  56  ...  4   51  12,75\n",
              "\n",
              "[5 rows x 14 columns]"
            ]
          },
          "metadata": {
            "tags": []
          },
          "execution_count": 98
        }
      ]
    },
    {
      "cell_type": "code",
      "metadata": {
        "id": "PAJdqfgFjEWa",
        "outputId": "415cc930-db85-4a12-c163-334f15ffc43e",
        "colab": {
          "base_uri": "https://localhost:8080/",
          "height": 254
        }
      },
      "source": [
        "dados[1].tail()"
      ],
      "execution_count": 99,
      "outputs": [
        {
          "output_type": "execute_result",
          "data": {
            "text/html": [
              "<div>\n",
              "<style scoped>\n",
              "    .dataframe tbody tr th:only-of-type {\n",
              "        vertical-align: middle;\n",
              "    }\n",
              "\n",
              "    .dataframe tbody tr th {\n",
              "        vertical-align: top;\n",
              "    }\n",
              "\n",
              "    .dataframe thead th {\n",
              "        text-align: right;\n",
              "    }\n",
              "</style>\n",
              "<table border=\"1\" class=\"dataframe\">\n",
              "  <thead>\n",
              "    <tr style=\"text-align: right;\">\n",
              "      <th></th>\n",
              "      <th>500</th>\n",
              "      <th>Medicina</th>\n",
              "      <th>122</th>\n",
              "      <th>15794</th>\n",
              "      <th>129,46</th>\n",
              "      <th>67</th>\n",
              "      <th>11031</th>\n",
              "      <th>164,64</th>\n",
              "      <th>33</th>\n",
              "      <th>3484</th>\n",
              "      <th>105,58</th>\n",
              "      <th>22</th>\n",
              "      <th>1279</th>\n",
              "      <th>58,14</th>\n",
              "    </tr>\n",
              "  </thead>\n",
              "  <tbody>\n",
              "    <tr>\n",
              "      <th>47</th>\n",
              "      <td>870.0</td>\n",
              "      <td>Química (Bacharelado e Bacharelado com Atribui...</td>\n",
              "      <td>e Qua4li2d</td>\n",
              "      <td>de e Ma1te7r3i</td>\n",
              "      <td>is) -4 S,1ã2o</td>\n",
              "      <td>Carlos23</td>\n",
              "      <td>112</td>\n",
              "      <td>4,87</td>\n",
              "      <td>11</td>\n",
              "      <td>52</td>\n",
              "      <td>4,73</td>\n",
              "      <td>8</td>\n",
              "      <td>9</td>\n",
              "      <td>1,13</td>\n",
              "    </tr>\n",
              "    <tr>\n",
              "      <th>48</th>\n",
              "      <td>875.0</td>\n",
              "      <td>Sistemas de Informação - São Carlos</td>\n",
              "      <td>35</td>\n",
              "      <td>342</td>\n",
              "      <td>9,77</td>\n",
              "      <td>19</td>\n",
              "      <td>217</td>\n",
              "      <td>11,42</td>\n",
              "      <td>10</td>\n",
              "      <td>104</td>\n",
              "      <td>10,4</td>\n",
              "      <td>6</td>\n",
              "      <td>21</td>\n",
              "      <td>3,5</td>\n",
              "    </tr>\n",
              "    <tr>\n",
              "      <th>49</th>\n",
              "      <td>999.0</td>\n",
              "      <td>Treinamento E (Exatas)</td>\n",
              "      <td>300</td>\n",
              "      <td>3530</td>\n",
              "      <td>11,77</td>\n",
              "      <td>180</td>\n",
              "      <td>3177</td>\n",
              "      <td>17,65</td>\n",
              "      <td>75</td>\n",
              "      <td>308</td>\n",
              "      <td>4,11</td>\n",
              "      <td>45</td>\n",
              "      <td>45</td>\n",
              "      <td>1</td>\n",
              "    </tr>\n",
              "    <tr>\n",
              "      <th>50</th>\n",
              "      <td>NaN</td>\n",
              "      <td>Total das Carreiras</td>\n",
              "      <td>9217</td>\n",
              "      <td>129148</td>\n",
              "      <td>14,01</td>\n",
              "      <td>5964</td>\n",
              "      <td>94888</td>\n",
              "      <td>15,91</td>\n",
              "      <td>2082</td>\n",
              "      <td>26368</td>\n",
              "      <td>12,66</td>\n",
              "      <td>1171</td>\n",
              "      <td>7892</td>\n",
              "      <td>6,74</td>\n",
              "    </tr>\n",
              "    <tr>\n",
              "      <th>51</th>\n",
              "      <td>NaN</td>\n",
              "      <td>Total das Carreiras sem Treineiros</td>\n",
              "      <td>8317</td>\n",
              "      <td>117019</td>\n",
              "      <td>14,07</td>\n",
              "      <td>5424</td>\n",
              "      <td>83841</td>\n",
              "      <td>15,46</td>\n",
              "      <td>1857</td>\n",
              "      <td>25450</td>\n",
              "      <td>13,7</td>\n",
              "      <td>1036</td>\n",
              "      <td>7728</td>\n",
              "      <td>7,46</td>\n",
              "    </tr>\n",
              "  </tbody>\n",
              "</table>\n",
              "</div>"
            ],
            "text/plain": [
              "      500                                           Medicina  ...  1279 58,14\n",
              "47  870.0  Química (Bacharelado e Bacharelado com Atribui...  ...     9  1,13\n",
              "48  875.0                Sistemas de Informação - São Carlos  ...    21   3,5\n",
              "49  999.0                             Treinamento E (Exatas)  ...    45     1\n",
              "50    NaN                                Total das Carreiras  ...  7892  6,74\n",
              "51    NaN                 Total das Carreiras sem Treineiros  ...  7728  7,46\n",
              "\n",
              "[5 rows x 14 columns]"
            ]
          },
          "metadata": {
            "tags": []
          },
          "execution_count": 99
        }
      ]
    },
    {
      "cell_type": "code",
      "metadata": {
        "id": "qy0o0Yh2jMri",
        "outputId": "7c94a31d-44df-4cd9-e7f7-c8322ce3db27",
        "colab": {
          "base_uri": "https://localhost:8080/",
          "height": 271
        }
      },
      "source": [
        "dados[1] = dados[1].iloc[:-2]\n",
        "dados[1].tail()"
      ],
      "execution_count": 100,
      "outputs": [
        {
          "output_type": "execute_result",
          "data": {
            "text/html": [
              "<div>\n",
              "<style scoped>\n",
              "    .dataframe tbody tr th:only-of-type {\n",
              "        vertical-align: middle;\n",
              "    }\n",
              "\n",
              "    .dataframe tbody tr th {\n",
              "        vertical-align: top;\n",
              "    }\n",
              "\n",
              "    .dataframe thead th {\n",
              "        text-align: right;\n",
              "    }\n",
              "</style>\n",
              "<table border=\"1\" class=\"dataframe\">\n",
              "  <thead>\n",
              "    <tr style=\"text-align: right;\">\n",
              "      <th></th>\n",
              "      <th>500</th>\n",
              "      <th>Medicina</th>\n",
              "      <th>122</th>\n",
              "      <th>15794</th>\n",
              "      <th>129,46</th>\n",
              "      <th>67</th>\n",
              "      <th>11031</th>\n",
              "      <th>164,64</th>\n",
              "      <th>33</th>\n",
              "      <th>3484</th>\n",
              "      <th>105,58</th>\n",
              "      <th>22</th>\n",
              "      <th>1279</th>\n",
              "      <th>58,14</th>\n",
              "    </tr>\n",
              "  </thead>\n",
              "  <tbody>\n",
              "    <tr>\n",
              "      <th>45</th>\n",
              "      <td>855.0</td>\n",
              "      <td>Química - Bacharelado e Licenciatura</td>\n",
              "      <td>84</td>\n",
              "      <td>752</td>\n",
              "      <td>8,95</td>\n",
              "      <td>50</td>\n",
              "      <td>462</td>\n",
              "      <td>9,24</td>\n",
              "      <td>20</td>\n",
              "      <td>220</td>\n",
              "      <td>11</td>\n",
              "      <td>14</td>\n",
              "      <td>70</td>\n",
              "      <td>5</td>\n",
              "    </tr>\n",
              "    <tr>\n",
              "      <th>46</th>\n",
              "      <td>865.0</td>\n",
              "      <td>Química - Licenciatura - Ribeirão Preto</td>\n",
              "      <td>28</td>\n",
              "      <td>61</td>\n",
              "      <td>2,18</td>\n",
              "      <td>15</td>\n",
              "      <td>46</td>\n",
              "      <td>3,07</td>\n",
              "      <td>8</td>\n",
              "      <td>10</td>\n",
              "      <td>1,25</td>\n",
              "      <td>5</td>\n",
              "      <td>5</td>\n",
              "      <td>1</td>\n",
              "    </tr>\n",
              "    <tr>\n",
              "      <th>47</th>\n",
              "      <td>870.0</td>\n",
              "      <td>Química (Bacharelado e Bacharelado com Atribui...</td>\n",
              "      <td>e Qua4li2d</td>\n",
              "      <td>de e Ma1te7r3i</td>\n",
              "      <td>is) -4 S,1ã2o</td>\n",
              "      <td>Carlos23</td>\n",
              "      <td>112</td>\n",
              "      <td>4,87</td>\n",
              "      <td>11</td>\n",
              "      <td>52</td>\n",
              "      <td>4,73</td>\n",
              "      <td>8</td>\n",
              "      <td>9</td>\n",
              "      <td>1,13</td>\n",
              "    </tr>\n",
              "    <tr>\n",
              "      <th>48</th>\n",
              "      <td>875.0</td>\n",
              "      <td>Sistemas de Informação - São Carlos</td>\n",
              "      <td>35</td>\n",
              "      <td>342</td>\n",
              "      <td>9,77</td>\n",
              "      <td>19</td>\n",
              "      <td>217</td>\n",
              "      <td>11,42</td>\n",
              "      <td>10</td>\n",
              "      <td>104</td>\n",
              "      <td>10,4</td>\n",
              "      <td>6</td>\n",
              "      <td>21</td>\n",
              "      <td>3,5</td>\n",
              "    </tr>\n",
              "    <tr>\n",
              "      <th>49</th>\n",
              "      <td>999.0</td>\n",
              "      <td>Treinamento E (Exatas)</td>\n",
              "      <td>300</td>\n",
              "      <td>3530</td>\n",
              "      <td>11,77</td>\n",
              "      <td>180</td>\n",
              "      <td>3177</td>\n",
              "      <td>17,65</td>\n",
              "      <td>75</td>\n",
              "      <td>308</td>\n",
              "      <td>4,11</td>\n",
              "      <td>45</td>\n",
              "      <td>45</td>\n",
              "      <td>1</td>\n",
              "    </tr>\n",
              "  </tbody>\n",
              "</table>\n",
              "</div>"
            ],
            "text/plain": [
              "      500                                           Medicina  ... 1279 58,14\n",
              "45  855.0               Química - Bacharelado e Licenciatura  ...   70     5\n",
              "46  865.0            Química - Licenciatura - Ribeirão Preto  ...    5     1\n",
              "47  870.0  Química (Bacharelado e Bacharelado com Atribui...  ...    9  1,13\n",
              "48  875.0                Sistemas de Informação - São Carlos  ...   21   3,5\n",
              "49  999.0                             Treinamento E (Exatas)  ...   45     1\n",
              "\n",
              "[5 rows x 14 columns]"
            ]
          },
          "metadata": {
            "tags": []
          },
          "execution_count": 100
        }
      ]
    },
    {
      "cell_type": "code",
      "metadata": {
        "id": "-f20ExGGjSKz",
        "outputId": "fa9e4e80-b79e-4b22-90cb-bce09bbb2038",
        "colab": {
          "base_uri": "https://localhost:8080/",
          "height": 288
        }
      },
      "source": [
        "dados_columns = dados[0].columns\n",
        "linha_extra = dados[1].columns\n",
        "dados[1].columns = dados_columns\n",
        "dados[1].head()"
      ],
      "execution_count": 101,
      "outputs": [
        {
          "output_type": "execute_result",
          "data": {
            "text/html": [
              "<div>\n",
              "<style scoped>\n",
              "    .dataframe tbody tr th:only-of-type {\n",
              "        vertical-align: middle;\n",
              "    }\n",
              "\n",
              "    .dataframe tbody tr th {\n",
              "        vertical-align: top;\n",
              "    }\n",
              "\n",
              "    .dataframe thead th {\n",
              "        text-align: right;\n",
              "    }\n",
              "</style>\n",
              "<table border=\"1\" class=\"dataframe\">\n",
              "  <thead>\n",
              "    <tr style=\"text-align: right;\">\n",
              "      <th></th>\n",
              "      <th>CODIGO</th>\n",
              "      <th>NOME</th>\n",
              "      <th>VAGAS</th>\n",
              "      <th>INSCRITOS</th>\n",
              "      <th>C/V</th>\n",
              "      <th>VAGAS AC</th>\n",
              "      <th>INSCRITOS AC</th>\n",
              "      <th>C/V AC</th>\n",
              "      <th>VAGAS EP</th>\n",
              "      <th>INSCRITOS EP</th>\n",
              "      <th>C/V EP</th>\n",
              "      <th>VAGAS PPI</th>\n",
              "      <th>INSCRITOS PPI</th>\n",
              "      <th>C/V PPI</th>\n",
              "    </tr>\n",
              "  </thead>\n",
              "  <tbody>\n",
              "    <tr>\n",
              "      <th>0</th>\n",
              "      <td>501.0</td>\n",
              "      <td>Medicina - Bauru</td>\n",
              "      <td>42</td>\n",
              "      <td>5217</td>\n",
              "      <td>124,21</td>\n",
              "      <td>26</td>\n",
              "      <td>3952</td>\n",
              "      <td>152</td>\n",
              "      <td>8</td>\n",
              "      <td>887</td>\n",
              "      <td>110,88</td>\n",
              "      <td>8</td>\n",
              "      <td>378</td>\n",
              "      <td>47,25</td>\n",
              "    </tr>\n",
              "    <tr>\n",
              "      <th>1</th>\n",
              "      <td>505.0</td>\n",
              "      <td>Medicina - Ribeirão Preto</td>\n",
              "      <td>77</td>\n",
              "      <td>6856</td>\n",
              "      <td>89,04</td>\n",
              "      <td>55</td>\n",
              "      <td>5183</td>\n",
              "      <td>94,24</td>\n",
              "      <td>18</td>\n",
              "      <td>1418</td>\n",
              "      <td>78,78</td>\n",
              "      <td>4</td>\n",
              "      <td>255</td>\n",
              "      <td>63,75</td>\n",
              "    </tr>\n",
              "    <tr>\n",
              "      <th>2</th>\n",
              "      <td>510.0</td>\n",
              "      <td>Medicina Veterinária</td>\n",
              "      <td>56</td>\n",
              "      <td>2403</td>\n",
              "      <td>42,91</td>\n",
              "      <td>38</td>\n",
              "      <td>1607</td>\n",
              "      <td>42,29</td>\n",
              "      <td>11</td>\n",
              "      <td>615</td>\n",
              "      <td>55,91</td>\n",
              "      <td>7</td>\n",
              "      <td>181</td>\n",
              "      <td>25,86</td>\n",
              "    </tr>\n",
              "    <tr>\n",
              "      <th>3</th>\n",
              "      <td>515.0</td>\n",
              "      <td>Medicina Veterinária - Pirassununga</td>\n",
              "      <td>42</td>\n",
              "      <td>906</td>\n",
              "      <td>21,57</td>\n",
              "      <td>24</td>\n",
              "      <td>624</td>\n",
              "      <td>26</td>\n",
              "      <td>10</td>\n",
              "      <td>224</td>\n",
              "      <td>22,4</td>\n",
              "      <td>8</td>\n",
              "      <td>58</td>\n",
              "      <td>7,25</td>\n",
              "    </tr>\n",
              "    <tr>\n",
              "      <th>4</th>\n",
              "      <td>520.0</td>\n",
              "      <td>Nutrição</td>\n",
              "      <td>56</td>\n",
              "      <td>854</td>\n",
              "      <td>15,25</td>\n",
              "      <td>40</td>\n",
              "      <td>600</td>\n",
              "      <td>15</td>\n",
              "      <td>12</td>\n",
              "      <td>203</td>\n",
              "      <td>16,92</td>\n",
              "      <td>4</td>\n",
              "      <td>51</td>\n",
              "      <td>12,75</td>\n",
              "    </tr>\n",
              "  </tbody>\n",
              "</table>\n",
              "</div>"
            ],
            "text/plain": [
              "   CODIGO                                 NOME  ... INSCRITOS PPI C/V PPI\n",
              "0   501.0                     Medicina - Bauru  ...           378   47,25\n",
              "1   505.0            Medicina - Ribeirão Preto  ...           255   63,75\n",
              "2   510.0                 Medicina Veterinária  ...           181   25,86\n",
              "3   515.0  Medicina Veterinária - Pirassununga  ...            58    7,25\n",
              "4   520.0                             Nutrição  ...            51   12,75\n",
              "\n",
              "[5 rows x 14 columns]"
            ]
          },
          "metadata": {
            "tags": []
          },
          "execution_count": 101
        }
      ]
    },
    {
      "cell_type": "code",
      "metadata": {
        "id": "2wOJVV0vjel7",
        "outputId": "f4a0a7c8-815b-41d9-a1bc-311cbef1b27c",
        "colab": {
          "base_uri": "https://localhost:8080/",
          "height": 96
        }
      },
      "source": [
        "dados.append(pd.DataFrame([linha_extra], columns=dados_columns))\n",
        "dados[2].head()"
      ],
      "execution_count": 102,
      "outputs": [
        {
          "output_type": "execute_result",
          "data": {
            "text/html": [
              "<div>\n",
              "<style scoped>\n",
              "    .dataframe tbody tr th:only-of-type {\n",
              "        vertical-align: middle;\n",
              "    }\n",
              "\n",
              "    .dataframe tbody tr th {\n",
              "        vertical-align: top;\n",
              "    }\n",
              "\n",
              "    .dataframe thead th {\n",
              "        text-align: right;\n",
              "    }\n",
              "</style>\n",
              "<table border=\"1\" class=\"dataframe\">\n",
              "  <thead>\n",
              "    <tr style=\"text-align: right;\">\n",
              "      <th></th>\n",
              "      <th>CODIGO</th>\n",
              "      <th>NOME</th>\n",
              "      <th>VAGAS</th>\n",
              "      <th>INSCRITOS</th>\n",
              "      <th>C/V</th>\n",
              "      <th>VAGAS AC</th>\n",
              "      <th>INSCRITOS AC</th>\n",
              "      <th>C/V AC</th>\n",
              "      <th>VAGAS EP</th>\n",
              "      <th>INSCRITOS EP</th>\n",
              "      <th>C/V EP</th>\n",
              "      <th>VAGAS PPI</th>\n",
              "      <th>INSCRITOS PPI</th>\n",
              "      <th>C/V PPI</th>\n",
              "    </tr>\n",
              "  </thead>\n",
              "  <tbody>\n",
              "    <tr>\n",
              "      <th>0</th>\n",
              "      <td>500</td>\n",
              "      <td>Medicina</td>\n",
              "      <td>122</td>\n",
              "      <td>15794</td>\n",
              "      <td>129,46</td>\n",
              "      <td>67</td>\n",
              "      <td>11031</td>\n",
              "      <td>164,64</td>\n",
              "      <td>33</td>\n",
              "      <td>3484</td>\n",
              "      <td>105,58</td>\n",
              "      <td>22</td>\n",
              "      <td>1279</td>\n",
              "      <td>58,14</td>\n",
              "    </tr>\n",
              "  </tbody>\n",
              "</table>\n",
              "</div>"
            ],
            "text/plain": [
              "  CODIGO      NOME VAGAS INSCRITOS  ...  C/V EP VAGAS PPI INSCRITOS PPI C/V PPI\n",
              "0    500  Medicina   122     15794  ...  105,58        22          1279   58,14\n",
              "\n",
              "[1 rows x 14 columns]"
            ]
          },
          "metadata": {
            "tags": []
          },
          "execution_count": 102
        }
      ]
    },
    {
      "cell_type": "code",
      "metadata": {
        "id": "V8VOz3omjs3c",
        "outputId": "4ca8de4e-7467-4b5d-d804-fb488ffa8a22",
        "colab": {
          "base_uri": "https://localhost:8080/",
          "height": 288
        }
      },
      "source": [
        "dados = pd.concat(dados)\n",
        "dados.head()"
      ],
      "execution_count": 103,
      "outputs": [
        {
          "output_type": "execute_result",
          "data": {
            "text/html": [
              "<div>\n",
              "<style scoped>\n",
              "    .dataframe tbody tr th:only-of-type {\n",
              "        vertical-align: middle;\n",
              "    }\n",
              "\n",
              "    .dataframe tbody tr th {\n",
              "        vertical-align: top;\n",
              "    }\n",
              "\n",
              "    .dataframe thead th {\n",
              "        text-align: right;\n",
              "    }\n",
              "</style>\n",
              "<table border=\"1\" class=\"dataframe\">\n",
              "  <thead>\n",
              "    <tr style=\"text-align: right;\">\n",
              "      <th></th>\n",
              "      <th>CODIGO</th>\n",
              "      <th>NOME</th>\n",
              "      <th>VAGAS</th>\n",
              "      <th>INSCRITOS</th>\n",
              "      <th>C/V</th>\n",
              "      <th>VAGAS AC</th>\n",
              "      <th>INSCRITOS AC</th>\n",
              "      <th>C/V AC</th>\n",
              "      <th>VAGAS EP</th>\n",
              "      <th>INSCRITOS EP</th>\n",
              "      <th>C/V EP</th>\n",
              "      <th>VAGAS PPI</th>\n",
              "      <th>INSCRITOS PPI</th>\n",
              "      <th>C/V PPI</th>\n",
              "    </tr>\n",
              "  </thead>\n",
              "  <tbody>\n",
              "    <tr>\n",
              "      <th>0</th>\n",
              "      <td>100</td>\n",
              "      <td>Administração, Ciências Contábeis, Economia, E...</td>\n",
              "      <td>187</td>\n",
              "      <td>1562</td>\n",
              "      <td>8,35</td>\n",
              "      <td>93</td>\n",
              "      <td>1165</td>\n",
              "      <td>12,53</td>\n",
              "      <td>59</td>\n",
              "      <td>312</td>\n",
              "      <td>5,29</td>\n",
              "      <td>35</td>\n",
              "      <td>85</td>\n",
              "      <td>2,43</td>\n",
              "    </tr>\n",
              "    <tr>\n",
              "      <th>1</th>\n",
              "      <td>101</td>\n",
              "      <td>Administração - Piracicaba</td>\n",
              "      <td>40</td>\n",
              "      <td>283</td>\n",
              "      <td>7,08</td>\n",
              "      <td>22</td>\n",
              "      <td>196</td>\n",
              "      <td>8,91</td>\n",
              "      <td>11</td>\n",
              "      <td>70</td>\n",
              "      <td>6,36</td>\n",
              "      <td>7</td>\n",
              "      <td>17</td>\n",
              "      <td>2,43</td>\n",
              "    </tr>\n",
              "    <tr>\n",
              "      <th>2</th>\n",
              "      <td>105</td>\n",
              "      <td>Arquitetura - FAU</td>\n",
              "      <td>105</td>\n",
              "      <td>2724</td>\n",
              "      <td>25,94</td>\n",
              "      <td>67</td>\n",
              "      <td>1924</td>\n",
              "      <td>28,72</td>\n",
              "      <td>27</td>\n",
              "      <td>599</td>\n",
              "      <td>22,19</td>\n",
              "      <td>11</td>\n",
              "      <td>201</td>\n",
              "      <td>18,27</td>\n",
              "    </tr>\n",
              "    <tr>\n",
              "      <th>3</th>\n",
              "      <td>110</td>\n",
              "      <td>Arquitetura - São Carlos</td>\n",
              "      <td>31</td>\n",
              "      <td>622</td>\n",
              "      <td>20,06</td>\n",
              "      <td>15</td>\n",
              "      <td>408</td>\n",
              "      <td>27,2</td>\n",
              "      <td>10</td>\n",
              "      <td>178</td>\n",
              "      <td>17,8</td>\n",
              "      <td>6</td>\n",
              "      <td>36</td>\n",
              "      <td>6</td>\n",
              "    </tr>\n",
              "    <tr>\n",
              "      <th>4</th>\n",
              "      <td>115</td>\n",
              "      <td>Artes Cênicas</td>\n",
              "      <td>30</td>\n",
              "      <td>667</td>\n",
              "      <td>22,23</td>\n",
              "      <td>16</td>\n",
              "      <td>411</td>\n",
              "      <td>25,69</td>\n",
              "      <td>8</td>\n",
              "      <td>185</td>\n",
              "      <td>23,13</td>\n",
              "      <td>6</td>\n",
              "      <td>71</td>\n",
              "      <td>11,83</td>\n",
              "    </tr>\n",
              "  </tbody>\n",
              "</table>\n",
              "</div>"
            ],
            "text/plain": [
              "  CODIGO  ... C/V PPI\n",
              "0    100  ...    2,43\n",
              "1    101  ...    2,43\n",
              "2    105  ...   18,27\n",
              "3    110  ...       6\n",
              "4    115  ...   11,83\n",
              "\n",
              "[5 rows x 14 columns]"
            ]
          },
          "metadata": {
            "tags": []
          },
          "execution_count": 103
        }
      ]
    },
    {
      "cell_type": "code",
      "metadata": {
        "id": "RR_74zNjj0TL",
        "outputId": "a24e7c7f-3152-48f9-a3b7-90530739f523",
        "colab": {
          "base_uri": "https://localhost:8080/",
          "height": 34
        }
      },
      "source": [
        "len(dados)"
      ],
      "execution_count": 104,
      "outputs": [
        {
          "output_type": "execute_result",
          "data": {
            "text/plain": [
              "109"
            ]
          },
          "metadata": {
            "tags": []
          },
          "execution_count": 104
        }
      ]
    },
    {
      "cell_type": "code",
      "metadata": {
        "id": "m-TzsSloj1mD",
        "outputId": "6d6065ca-45ed-4190-94d4-ecaf2e76a672",
        "colab": {
          "base_uri": "https://localhost:8080/",
          "height": 203
        }
      },
      "source": [
        "dados = dados[[\"NOME\", \"VAGAS\", \"INSCRITOS\", \"C/V\"]]\n",
        "dados.head()"
      ],
      "execution_count": 105,
      "outputs": [
        {
          "output_type": "execute_result",
          "data": {
            "text/html": [
              "<div>\n",
              "<style scoped>\n",
              "    .dataframe tbody tr th:only-of-type {\n",
              "        vertical-align: middle;\n",
              "    }\n",
              "\n",
              "    .dataframe tbody tr th {\n",
              "        vertical-align: top;\n",
              "    }\n",
              "\n",
              "    .dataframe thead th {\n",
              "        text-align: right;\n",
              "    }\n",
              "</style>\n",
              "<table border=\"1\" class=\"dataframe\">\n",
              "  <thead>\n",
              "    <tr style=\"text-align: right;\">\n",
              "      <th></th>\n",
              "      <th>NOME</th>\n",
              "      <th>VAGAS</th>\n",
              "      <th>INSCRITOS</th>\n",
              "      <th>C/V</th>\n",
              "    </tr>\n",
              "  </thead>\n",
              "  <tbody>\n",
              "    <tr>\n",
              "      <th>0</th>\n",
              "      <td>Administração, Ciências Contábeis, Economia, E...</td>\n",
              "      <td>187</td>\n",
              "      <td>1562</td>\n",
              "      <td>8,35</td>\n",
              "    </tr>\n",
              "    <tr>\n",
              "      <th>1</th>\n",
              "      <td>Administração - Piracicaba</td>\n",
              "      <td>40</td>\n",
              "      <td>283</td>\n",
              "      <td>7,08</td>\n",
              "    </tr>\n",
              "    <tr>\n",
              "      <th>2</th>\n",
              "      <td>Arquitetura - FAU</td>\n",
              "      <td>105</td>\n",
              "      <td>2724</td>\n",
              "      <td>25,94</td>\n",
              "    </tr>\n",
              "    <tr>\n",
              "      <th>3</th>\n",
              "      <td>Arquitetura - São Carlos</td>\n",
              "      <td>31</td>\n",
              "      <td>622</td>\n",
              "      <td>20,06</td>\n",
              "    </tr>\n",
              "    <tr>\n",
              "      <th>4</th>\n",
              "      <td>Artes Cênicas</td>\n",
              "      <td>30</td>\n",
              "      <td>667</td>\n",
              "      <td>22,23</td>\n",
              "    </tr>\n",
              "  </tbody>\n",
              "</table>\n",
              "</div>"
            ],
            "text/plain": [
              "                                                NOME VAGAS INSCRITOS    C/V\n",
              "0  Administração, Ciências Contábeis, Economia, E...   187      1562   8,35\n",
              "1                         Administração - Piracicaba    40       283   7,08\n",
              "2                                  Arquitetura - FAU   105      2724  25,94\n",
              "3                           Arquitetura - São Carlos    31       622  20,06\n",
              "4                                      Artes Cênicas    30       667  22,23"
            ]
          },
          "metadata": {
            "tags": []
          },
          "execution_count": 105
        }
      ]
    },
    {
      "cell_type": "code",
      "metadata": {
        "id": "18N8vkkBkF9D",
        "outputId": "675a5d9e-1215-4ef1-c900-e08c2698bbd4",
        "colab": {
          "base_uri": "https://localhost:8080/",
          "height": 172
        }
      },
      "source": [
        "dados.describe()"
      ],
      "execution_count": 106,
      "outputs": [
        {
          "output_type": "execute_result",
          "data": {
            "text/html": [
              "<div>\n",
              "<style scoped>\n",
              "    .dataframe tbody tr th:only-of-type {\n",
              "        vertical-align: middle;\n",
              "    }\n",
              "\n",
              "    .dataframe tbody tr th {\n",
              "        vertical-align: top;\n",
              "    }\n",
              "\n",
              "    .dataframe thead th {\n",
              "        text-align: right;\n",
              "    }\n",
              "</style>\n",
              "<table border=\"1\" class=\"dataframe\">\n",
              "  <thead>\n",
              "    <tr style=\"text-align: right;\">\n",
              "      <th></th>\n",
              "      <th>NOME</th>\n",
              "      <th>VAGAS</th>\n",
              "      <th>INSCRITOS</th>\n",
              "      <th>C/V</th>\n",
              "    </tr>\n",
              "  </thead>\n",
              "  <tbody>\n",
              "    <tr>\n",
              "      <th>count</th>\n",
              "      <td>109</td>\n",
              "      <td>109</td>\n",
              "      <td>109</td>\n",
              "      <td>109</td>\n",
              "    </tr>\n",
              "    <tr>\n",
              "      <th>unique</th>\n",
              "      <td>109</td>\n",
              "      <td>60</td>\n",
              "      <td>106</td>\n",
              "      <td>104</td>\n",
              "    </tr>\n",
              "    <tr>\n",
              "      <th>top</th>\n",
              "      <td>Nutrição e Metabolismo - Ribeirão Preto</td>\n",
              "      <td>28</td>\n",
              "      <td>158</td>\n",
              "      <td>3,71</td>\n",
              "    </tr>\n",
              "    <tr>\n",
              "      <th>freq</th>\n",
              "      <td>1</td>\n",
              "      <td>9</td>\n",
              "      <td>2</td>\n",
              "      <td>2</td>\n",
              "    </tr>\n",
              "  </tbody>\n",
              "</table>\n",
              "</div>"
            ],
            "text/plain": [
              "                                           NOME  VAGAS INSCRITOS   C/V\n",
              "count                                       109    109       109   109\n",
              "unique                                      109     60       106   104\n",
              "top     Nutrição e Metabolismo - Ribeirão Preto     28       158  3,71\n",
              "freq                                          1      9         2     2"
            ]
          },
          "metadata": {
            "tags": []
          },
          "execution_count": 106
        }
      ]
    },
    {
      "cell_type": "code",
      "metadata": {
        "id": "RwgV4WzskHJz",
        "outputId": "276a3e1c-0215-4a75-db20-fd28ca8112cf",
        "colab": {
          "base_uri": "https://localhost:8080/",
          "height": 206
        }
      },
      "source": [
        "dados.info()"
      ],
      "execution_count": 107,
      "outputs": [
        {
          "output_type": "stream",
          "text": [
            "<class 'pandas.core.frame.DataFrame'>\n",
            "Int64Index: 109 entries, 0 to 0\n",
            "Data columns (total 4 columns):\n",
            " #   Column     Non-Null Count  Dtype \n",
            "---  ------     --------------  ----- \n",
            " 0   NOME       109 non-null    object\n",
            " 1   VAGAS      109 non-null    object\n",
            " 2   INSCRITOS  109 non-null    object\n",
            " 3   C/V        109 non-null    object\n",
            "dtypes: object(4)\n",
            "memory usage: 4.3+ KB\n"
          ],
          "name": "stdout"
        }
      ]
    },
    {
      "cell_type": "code",
      "metadata": {
        "id": "JV2fN__BkMfj",
        "outputId": "711dbbdf-fa80-4eb5-fdc6-950ca62d0bbe",
        "colab": {
          "base_uri": "https://localhost:8080/",
          "height": 203
        }
      },
      "source": [
        "dados.tail()"
      ],
      "execution_count": 108,
      "outputs": [
        {
          "output_type": "execute_result",
          "data": {
            "text/html": [
              "<div>\n",
              "<style scoped>\n",
              "    .dataframe tbody tr th:only-of-type {\n",
              "        vertical-align: middle;\n",
              "    }\n",
              "\n",
              "    .dataframe tbody tr th {\n",
              "        vertical-align: top;\n",
              "    }\n",
              "\n",
              "    .dataframe thead th {\n",
              "        text-align: right;\n",
              "    }\n",
              "</style>\n",
              "<table border=\"1\" class=\"dataframe\">\n",
              "  <thead>\n",
              "    <tr style=\"text-align: right;\">\n",
              "      <th></th>\n",
              "      <th>NOME</th>\n",
              "      <th>VAGAS</th>\n",
              "      <th>INSCRITOS</th>\n",
              "      <th>C/V</th>\n",
              "    </tr>\n",
              "  </thead>\n",
              "  <tbody>\n",
              "    <tr>\n",
              "      <th>46</th>\n",
              "      <td>Química - Licenciatura - Ribeirão Preto</td>\n",
              "      <td>28</td>\n",
              "      <td>61</td>\n",
              "      <td>2,18</td>\n",
              "    </tr>\n",
              "    <tr>\n",
              "      <th>47</th>\n",
              "      <td>Química (Bacharelado e Bacharelado com Atribui...</td>\n",
              "      <td>e Qua4li2d</td>\n",
              "      <td>de e Ma1te7r3i</td>\n",
              "      <td>is) -4 S,1ã2o</td>\n",
              "    </tr>\n",
              "    <tr>\n",
              "      <th>48</th>\n",
              "      <td>Sistemas de Informação - São Carlos</td>\n",
              "      <td>35</td>\n",
              "      <td>342</td>\n",
              "      <td>9,77</td>\n",
              "    </tr>\n",
              "    <tr>\n",
              "      <th>49</th>\n",
              "      <td>Treinamento E (Exatas)</td>\n",
              "      <td>300</td>\n",
              "      <td>3530</td>\n",
              "      <td>11,77</td>\n",
              "    </tr>\n",
              "    <tr>\n",
              "      <th>0</th>\n",
              "      <td>Medicina</td>\n",
              "      <td>122</td>\n",
              "      <td>15794</td>\n",
              "      <td>129,46</td>\n",
              "    </tr>\n",
              "  </tbody>\n",
              "</table>\n",
              "</div>"
            ],
            "text/plain": [
              "                                                 NOME  ...            C/V\n",
              "46            Química - Licenciatura - Ribeirão Preto  ...           2,18\n",
              "47  Química (Bacharelado e Bacharelado com Atribui...  ...  is) -4 S,1ã2o\n",
              "48                Sistemas de Informação - São Carlos  ...           9,77\n",
              "49                             Treinamento E (Exatas)  ...          11,77\n",
              "0                                            Medicina  ...         129,46\n",
              "\n",
              "[5 rows x 4 columns]"
            ]
          },
          "metadata": {
            "tags": []
          },
          "execution_count": 108
        }
      ]
    },
    {
      "cell_type": "code",
      "metadata": {
        "id": "dwNdXQcAkXkL",
        "outputId": "a7f1ffc9-d6d7-4c4e-8a80-02c7efa59714",
        "colab": {
          "base_uri": "https://localhost:8080/",
          "height": 203
        }
      },
      "source": [
        "dados = dados.drop(47)\n",
        "dados.tail()"
      ],
      "execution_count": 109,
      "outputs": [
        {
          "output_type": "execute_result",
          "data": {
            "text/html": [
              "<div>\n",
              "<style scoped>\n",
              "    .dataframe tbody tr th:only-of-type {\n",
              "        vertical-align: middle;\n",
              "    }\n",
              "\n",
              "    .dataframe tbody tr th {\n",
              "        vertical-align: top;\n",
              "    }\n",
              "\n",
              "    .dataframe thead th {\n",
              "        text-align: right;\n",
              "    }\n",
              "</style>\n",
              "<table border=\"1\" class=\"dataframe\">\n",
              "  <thead>\n",
              "    <tr style=\"text-align: right;\">\n",
              "      <th></th>\n",
              "      <th>NOME</th>\n",
              "      <th>VAGAS</th>\n",
              "      <th>INSCRITOS</th>\n",
              "      <th>C/V</th>\n",
              "    </tr>\n",
              "  </thead>\n",
              "  <tbody>\n",
              "    <tr>\n",
              "      <th>45</th>\n",
              "      <td>Química - Bacharelado e Licenciatura</td>\n",
              "      <td>84</td>\n",
              "      <td>752</td>\n",
              "      <td>8,95</td>\n",
              "    </tr>\n",
              "    <tr>\n",
              "      <th>46</th>\n",
              "      <td>Química - Licenciatura - Ribeirão Preto</td>\n",
              "      <td>28</td>\n",
              "      <td>61</td>\n",
              "      <td>2,18</td>\n",
              "    </tr>\n",
              "    <tr>\n",
              "      <th>48</th>\n",
              "      <td>Sistemas de Informação - São Carlos</td>\n",
              "      <td>35</td>\n",
              "      <td>342</td>\n",
              "      <td>9,77</td>\n",
              "    </tr>\n",
              "    <tr>\n",
              "      <th>49</th>\n",
              "      <td>Treinamento E (Exatas)</td>\n",
              "      <td>300</td>\n",
              "      <td>3530</td>\n",
              "      <td>11,77</td>\n",
              "    </tr>\n",
              "    <tr>\n",
              "      <th>0</th>\n",
              "      <td>Medicina</td>\n",
              "      <td>122</td>\n",
              "      <td>15794</td>\n",
              "      <td>129,46</td>\n",
              "    </tr>\n",
              "  </tbody>\n",
              "</table>\n",
              "</div>"
            ],
            "text/plain": [
              "                                       NOME VAGAS INSCRITOS     C/V\n",
              "45     Química - Bacharelado e Licenciatura    84       752    8,95\n",
              "46  Química - Licenciatura - Ribeirão Preto    28        61    2,18\n",
              "48      Sistemas de Informação - São Carlos    35       342    9,77\n",
              "49                   Treinamento E (Exatas)   300      3530   11,77\n",
              "0                                  Medicina   122     15794  129,46"
            ]
          },
          "metadata": {
            "tags": []
          },
          "execution_count": 109
        }
      ]
    },
    {
      "cell_type": "code",
      "metadata": {
        "id": "6riiOoz2kZp0",
        "outputId": "fbdb0f5a-20aa-4093-d0e3-df06fcd1d85e",
        "colab": {
          "base_uri": "https://localhost:8080/",
          "height": 172
        }
      },
      "source": [
        "dados.describe()"
      ],
      "execution_count": 110,
      "outputs": [
        {
          "output_type": "execute_result",
          "data": {
            "text/html": [
              "<div>\n",
              "<style scoped>\n",
              "    .dataframe tbody tr th:only-of-type {\n",
              "        vertical-align: middle;\n",
              "    }\n",
              "\n",
              "    .dataframe tbody tr th {\n",
              "        vertical-align: top;\n",
              "    }\n",
              "\n",
              "    .dataframe thead th {\n",
              "        text-align: right;\n",
              "    }\n",
              "</style>\n",
              "<table border=\"1\" class=\"dataframe\">\n",
              "  <thead>\n",
              "    <tr style=\"text-align: right;\">\n",
              "      <th></th>\n",
              "      <th>NOME</th>\n",
              "      <th>VAGAS</th>\n",
              "      <th>INSCRITOS</th>\n",
              "      <th>C/V</th>\n",
              "    </tr>\n",
              "  </thead>\n",
              "  <tbody>\n",
              "    <tr>\n",
              "      <th>count</th>\n",
              "      <td>107</td>\n",
              "      <td>107</td>\n",
              "      <td>107</td>\n",
              "      <td>107</td>\n",
              "    </tr>\n",
              "    <tr>\n",
              "      <th>unique</th>\n",
              "      <td>107</td>\n",
              "      <td>58</td>\n",
              "      <td>104</td>\n",
              "      <td>102</td>\n",
              "    </tr>\n",
              "    <tr>\n",
              "      <th>top</th>\n",
              "      <td>Nutrição e Metabolismo - Ribeirão Preto</td>\n",
              "      <td>28</td>\n",
              "      <td>158</td>\n",
              "      <td>6,04</td>\n",
              "    </tr>\n",
              "    <tr>\n",
              "      <th>freq</th>\n",
              "      <td>1</td>\n",
              "      <td>9</td>\n",
              "      <td>2</td>\n",
              "      <td>2</td>\n",
              "    </tr>\n",
              "  </tbody>\n",
              "</table>\n",
              "</div>"
            ],
            "text/plain": [
              "                                           NOME  VAGAS INSCRITOS   C/V\n",
              "count                                       107    107       107   107\n",
              "unique                                      107     58       104   102\n",
              "top     Nutrição e Metabolismo - Ribeirão Preto     28       158  6,04\n",
              "freq                                          1      9         2     2"
            ]
          },
          "metadata": {
            "tags": []
          },
          "execution_count": 110
        }
      ]
    },
    {
      "cell_type": "code",
      "metadata": {
        "id": "CZhrRO8gkdXU",
        "outputId": "4b3b3875-8c4c-4d66-e14b-f5e169d929dd",
        "colab": {
          "base_uri": "https://localhost:8080/",
          "height": 295
        }
      },
      "source": [
        "dados[\"candidatos\"] = pd.to_numeric(dados[\"INSCRITOS\"], errors=\"coerce\")\n",
        "dados[\"vagas\"] = pd.to_numeric(dados[\"VAGAS\"], errors=\"coerce\")\n",
        "dados[\"candidatos_por_vaga\"] = dados[\"candidatos\"] / dados[\"vagas\"]\n",
        "dados[\"nome\"] = dados[\"NOME\"]\n",
        "dados = dados.dropna()\n",
        "dados[\"candidatos\"] = dados[\"candidatos\"].astype(int)\n",
        "dados[\"vagas\"] = dados[\"vagas\"].astype(int)\n",
        "dados.describe()"
      ],
      "execution_count": 112,
      "outputs": [
        {
          "output_type": "execute_result",
          "data": {
            "text/html": [
              "<div>\n",
              "<style scoped>\n",
              "    .dataframe tbody tr th:only-of-type {\n",
              "        vertical-align: middle;\n",
              "    }\n",
              "\n",
              "    .dataframe tbody tr th {\n",
              "        vertical-align: top;\n",
              "    }\n",
              "\n",
              "    .dataframe thead th {\n",
              "        text-align: right;\n",
              "    }\n",
              "</style>\n",
              "<table border=\"1\" class=\"dataframe\">\n",
              "  <thead>\n",
              "    <tr style=\"text-align: right;\">\n",
              "      <th></th>\n",
              "      <th>candidatos</th>\n",
              "      <th>vagas</th>\n",
              "      <th>candidatos_por_vaga</th>\n",
              "    </tr>\n",
              "  </thead>\n",
              "  <tbody>\n",
              "    <tr>\n",
              "      <th>count</th>\n",
              "      <td>105.000000</td>\n",
              "      <td>105.000000</td>\n",
              "      <td>105.000000</td>\n",
              "    </tr>\n",
              "    <tr>\n",
              "      <th>mean</th>\n",
              "      <td>1193.066667</td>\n",
              "      <td>81.771429</td>\n",
              "      <td>15.273537</td>\n",
              "    </tr>\n",
              "    <tr>\n",
              "      <th>std</th>\n",
              "      <td>2181.669426</td>\n",
              "      <td>115.123534</td>\n",
              "      <td>21.092466</td>\n",
              "    </tr>\n",
              "    <tr>\n",
              "      <th>min</th>\n",
              "      <td>45.000000</td>\n",
              "      <td>12.000000</td>\n",
              "      <td>1.607143</td>\n",
              "    </tr>\n",
              "    <tr>\n",
              "      <th>25%</th>\n",
              "      <td>163.000000</td>\n",
              "      <td>28.000000</td>\n",
              "      <td>5.000000</td>\n",
              "    </tr>\n",
              "    <tr>\n",
              "      <th>50%</th>\n",
              "      <td>483.000000</td>\n",
              "      <td>42.000000</td>\n",
              "      <td>8.352941</td>\n",
              "    </tr>\n",
              "    <tr>\n",
              "      <th>75%</th>\n",
              "      <td>1092.000000</td>\n",
              "      <td>84.000000</td>\n",
              "      <td>15.116667</td>\n",
              "    </tr>\n",
              "    <tr>\n",
              "      <th>max</th>\n",
              "      <td>15794.000000</td>\n",
              "      <td>783.000000</td>\n",
              "      <td>129.459016</td>\n",
              "    </tr>\n",
              "  </tbody>\n",
              "</table>\n",
              "</div>"
            ],
            "text/plain": [
              "         candidatos       vagas  candidatos_por_vaga\n",
              "count    105.000000  105.000000           105.000000\n",
              "mean    1193.066667   81.771429            15.273537\n",
              "std     2181.669426  115.123534            21.092466\n",
              "min       45.000000   12.000000             1.607143\n",
              "25%      163.000000   28.000000             5.000000\n",
              "50%      483.000000   42.000000             8.352941\n",
              "75%     1092.000000   84.000000            15.116667\n",
              "max    15794.000000  783.000000           129.459016"
            ]
          },
          "metadata": {
            "tags": []
          },
          "execution_count": 112
        }
      ]
    },
    {
      "cell_type": "code",
      "metadata": {
        "id": "1oliv9BykkvL",
        "outputId": "0d226d03-ac1b-431a-a062-188e80787d22",
        "colab": {
          "base_uri": "https://localhost:8080/",
          "height": 274
        }
      },
      "source": [
        "dados.info()"
      ],
      "execution_count": 113,
      "outputs": [
        {
          "output_type": "stream",
          "text": [
            "<class 'pandas.core.frame.DataFrame'>\n",
            "Int64Index: 105 entries, 0 to 0\n",
            "Data columns (total 8 columns):\n",
            " #   Column               Non-Null Count  Dtype  \n",
            "---  ------               --------------  -----  \n",
            " 0   NOME                 105 non-null    object \n",
            " 1   VAGAS                105 non-null    object \n",
            " 2   INSCRITOS            105 non-null    object \n",
            " 3   C/V                  105 non-null    object \n",
            " 4   candidatos           105 non-null    int64  \n",
            " 5   vagas                105 non-null    int64  \n",
            " 6   candidatos_por_vaga  105 non-null    float64\n",
            " 7   nome                 105 non-null    object \n",
            "dtypes: float64(1), int64(2), object(5)\n",
            "memory usage: 7.4+ KB\n"
          ],
          "name": "stdout"
        }
      ]
    },
    {
      "cell_type": "code",
      "metadata": {
        "id": "4CAs2kZYlEUk",
        "outputId": "f6cffe83-66db-46ea-84c7-abae832c7ae0",
        "colab": {
          "base_uri": "https://localhost:8080/",
          "height": 974
        }
      },
      "source": [
        "dados = dados[[\"nome\", \"vagas\", \"candidatos\", \"candidatos_por_vaga\"]]\n",
        "dados = dados.sort_values(\"candidatos_por_vaga\", ascending=False)\n",
        "dados.head(30)"
      ],
      "execution_count": 114,
      "outputs": [
        {
          "output_type": "execute_result",
          "data": {
            "text/html": [
              "<div>\n",
              "<style scoped>\n",
              "    .dataframe tbody tr th:only-of-type {\n",
              "        vertical-align: middle;\n",
              "    }\n",
              "\n",
              "    .dataframe tbody tr th {\n",
              "        vertical-align: top;\n",
              "    }\n",
              "\n",
              "    .dataframe thead th {\n",
              "        text-align: right;\n",
              "    }\n",
              "</style>\n",
              "<table border=\"1\" class=\"dataframe\">\n",
              "  <thead>\n",
              "    <tr style=\"text-align: right;\">\n",
              "      <th></th>\n",
              "      <th>nome</th>\n",
              "      <th>vagas</th>\n",
              "      <th>candidatos</th>\n",
              "      <th>candidatos_por_vaga</th>\n",
              "    </tr>\n",
              "  </thead>\n",
              "  <tbody>\n",
              "    <tr>\n",
              "      <th>0</th>\n",
              "      <td>Medicina</td>\n",
              "      <td>122</td>\n",
              "      <td>15794</td>\n",
              "      <td>129.459016</td>\n",
              "    </tr>\n",
              "    <tr>\n",
              "      <th>0</th>\n",
              "      <td>Medicina - Bauru</td>\n",
              "      <td>42</td>\n",
              "      <td>5217</td>\n",
              "      <td>124.214286</td>\n",
              "    </tr>\n",
              "    <tr>\n",
              "      <th>1</th>\n",
              "      <td>Medicina - Ribeirão Preto</td>\n",
              "      <td>77</td>\n",
              "      <td>6856</td>\n",
              "      <td>89.038961</td>\n",
              "    </tr>\n",
              "    <tr>\n",
              "      <th>10</th>\n",
              "      <td>Psicologia</td>\n",
              "      <td>49</td>\n",
              "      <td>3610</td>\n",
              "      <td>73.673469</td>\n",
              "    </tr>\n",
              "    <tr>\n",
              "      <th>31</th>\n",
              "      <td>Relações Internacionais</td>\n",
              "      <td>42</td>\n",
              "      <td>2461</td>\n",
              "      <td>58.595238</td>\n",
              "    </tr>\n",
              "    <tr>\n",
              "      <th>9</th>\n",
              "      <td>Curso Superior do Audiovisual</td>\n",
              "      <td>24</td>\n",
              "      <td>1126</td>\n",
              "      <td>46.916667</td>\n",
              "    </tr>\n",
              "    <tr>\n",
              "      <th>11</th>\n",
              "      <td>Psicologia - Ribeirão Preto</td>\n",
              "      <td>29</td>\n",
              "      <td>1254</td>\n",
              "      <td>43.241379</td>\n",
              "    </tr>\n",
              "    <tr>\n",
              "      <th>2</th>\n",
              "      <td>Medicina Veterinária</td>\n",
              "      <td>56</td>\n",
              "      <td>2403</td>\n",
              "      <td>42.910714</td>\n",
              "    </tr>\n",
              "    <tr>\n",
              "      <th>40</th>\n",
              "      <td>Ciências Biomédicas</td>\n",
              "      <td>28</td>\n",
              "      <td>1042</td>\n",
              "      <td>37.214286</td>\n",
              "    </tr>\n",
              "    <tr>\n",
              "      <th>10</th>\n",
              "      <td>Design</td>\n",
              "      <td>28</td>\n",
              "      <td>906</td>\n",
              "      <td>32.357143</td>\n",
              "    </tr>\n",
              "    <tr>\n",
              "      <th>30</th>\n",
              "      <td>Publicidade e Propaganda</td>\n",
              "      <td>35</td>\n",
              "      <td>1092</td>\n",
              "      <td>31.200000</td>\n",
              "    </tr>\n",
              "    <tr>\n",
              "      <th>52</th>\n",
              "      <td>Fisioterapia</td>\n",
              "      <td>18</td>\n",
              "      <td>561</td>\n",
              "      <td>31.166667</td>\n",
              "    </tr>\n",
              "    <tr>\n",
              "      <th>21</th>\n",
              "      <td>Jornalismo</td>\n",
              "      <td>48</td>\n",
              "      <td>1397</td>\n",
              "      <td>29.104167</td>\n",
              "    </tr>\n",
              "    <tr>\n",
              "      <th>5</th>\n",
              "      <td>Artes Visuais</td>\n",
              "      <td>30</td>\n",
              "      <td>797</td>\n",
              "      <td>26.566667</td>\n",
              "    </tr>\n",
              "    <tr>\n",
              "      <th>2</th>\n",
              "      <td>Arquitetura - FAU</td>\n",
              "      <td>105</td>\n",
              "      <td>2724</td>\n",
              "      <td>25.942857</td>\n",
              "    </tr>\n",
              "    <tr>\n",
              "      <th>20</th>\n",
              "      <td>Engenharia Aeronáutica - São Carlos</td>\n",
              "      <td>33</td>\n",
              "      <td>823</td>\n",
              "      <td>24.939394</td>\n",
              "    </tr>\n",
              "    <tr>\n",
              "      <th>11</th>\n",
              "      <td>Direito</td>\n",
              "      <td>393</td>\n",
              "      <td>9461</td>\n",
              "      <td>24.073791</td>\n",
              "    </tr>\n",
              "    <tr>\n",
              "      <th>4</th>\n",
              "      <td>Artes Cênicas</td>\n",
              "      <td>30</td>\n",
              "      <td>667</td>\n",
              "      <td>22.233333</td>\n",
              "    </tr>\n",
              "    <tr>\n",
              "      <th>3</th>\n",
              "      <td>Medicina Veterinária - Pirassununga</td>\n",
              "      <td>42</td>\n",
              "      <td>906</td>\n",
              "      <td>21.571429</td>\n",
              "    </tr>\n",
              "    <tr>\n",
              "      <th>3</th>\n",
              "      <td>Arquitetura - São Carlos</td>\n",
              "      <td>31</td>\n",
              "      <td>622</td>\n",
              "      <td>20.064516</td>\n",
              "    </tr>\n",
              "    <tr>\n",
              "      <th>37</th>\n",
              "      <td>Ciências Biológicas</td>\n",
              "      <td>84</td>\n",
              "      <td>1467</td>\n",
              "      <td>17.464286</td>\n",
              "    </tr>\n",
              "    <tr>\n",
              "      <th>41</th>\n",
              "      <td>Ciências Biomédicas - Ribeirão Preto</td>\n",
              "      <td>20</td>\n",
              "      <td>347</td>\n",
              "      <td>17.350000</td>\n",
              "    </tr>\n",
              "    <tr>\n",
              "      <th>53</th>\n",
              "      <td>Fisioterapia - Ribeirão Preto</td>\n",
              "      <td>30</td>\n",
              "      <td>505</td>\n",
              "      <td>16.833333</td>\n",
              "    </tr>\n",
              "    <tr>\n",
              "      <th>7</th>\n",
              "      <td>Odontologia</td>\n",
              "      <td>93</td>\n",
              "      <td>1437</td>\n",
              "      <td>15.451613</td>\n",
              "    </tr>\n",
              "    <tr>\n",
              "      <th>24</th>\n",
              "      <td>Engenharia Civil - São Carlos</td>\n",
              "      <td>55</td>\n",
              "      <td>849</td>\n",
              "      <td>15.436364</td>\n",
              "    </tr>\n",
              "    <tr>\n",
              "      <th>4</th>\n",
              "      <td>Nutrição</td>\n",
              "      <td>56</td>\n",
              "      <td>854</td>\n",
              "      <td>15.250000</td>\n",
              "    </tr>\n",
              "    <tr>\n",
              "      <th>16</th>\n",
              "      <td>Treinamento B (Biológicas)</td>\n",
              "      <td>300</td>\n",
              "      <td>4535</td>\n",
              "      <td>15.116667</td>\n",
              "    </tr>\n",
              "    <tr>\n",
              "      <th>9</th>\n",
              "      <td>Odontologia - Ribeirão Preto</td>\n",
              "      <td>56</td>\n",
              "      <td>820</td>\n",
              "      <td>14.642857</td>\n",
              "    </tr>\n",
              "    <tr>\n",
              "      <th>12</th>\n",
              "      <td>Economia, Administração, Ciências Contábeis e ...</td>\n",
              "      <td>413</td>\n",
              "      <td>5794</td>\n",
              "      <td>14.029056</td>\n",
              "    </tr>\n",
              "    <tr>\n",
              "      <th>32</th>\n",
              "      <td>Relações Públicas</td>\n",
              "      <td>35</td>\n",
              "      <td>486</td>\n",
              "      <td>13.885714</td>\n",
              "    </tr>\n",
              "  </tbody>\n",
              "</table>\n",
              "</div>"
            ],
            "text/plain": [
              "                                                 nome  ...  candidatos_por_vaga\n",
              "0                                            Medicina  ...           129.459016\n",
              "0                                    Medicina - Bauru  ...           124.214286\n",
              "1                           Medicina - Ribeirão Preto  ...            89.038961\n",
              "10                                         Psicologia  ...            73.673469\n",
              "31                            Relações Internacionais  ...            58.595238\n",
              "9                       Curso Superior do Audiovisual  ...            46.916667\n",
              "11                        Psicologia - Ribeirão Preto  ...            43.241379\n",
              "2                                Medicina Veterinária  ...            42.910714\n",
              "40                                Ciências Biomédicas  ...            37.214286\n",
              "10                                             Design  ...            32.357143\n",
              "30                           Publicidade e Propaganda  ...            31.200000\n",
              "52                                       Fisioterapia  ...            31.166667\n",
              "21                                         Jornalismo  ...            29.104167\n",
              "5                                       Artes Visuais  ...            26.566667\n",
              "2                                   Arquitetura - FAU  ...            25.942857\n",
              "20                Engenharia Aeronáutica - São Carlos  ...            24.939394\n",
              "11                                            Direito  ...            24.073791\n",
              "4                                       Artes Cênicas  ...            22.233333\n",
              "3                 Medicina Veterinária - Pirassununga  ...            21.571429\n",
              "3                            Arquitetura - São Carlos  ...            20.064516\n",
              "37                                Ciências Biológicas  ...            17.464286\n",
              "41               Ciências Biomédicas - Ribeirão Preto  ...            17.350000\n",
              "53                      Fisioterapia - Ribeirão Preto  ...            16.833333\n",
              "7                                         Odontologia  ...            15.451613\n",
              "24                      Engenharia Civil - São Carlos  ...            15.436364\n",
              "4                                            Nutrição  ...            15.250000\n",
              "16                         Treinamento B (Biológicas)  ...            15.116667\n",
              "9                        Odontologia - Ribeirão Preto  ...            14.642857\n",
              "12  Economia, Administração, Ciências Contábeis e ...  ...            14.029056\n",
              "32                                  Relações Públicas  ...            13.885714\n",
              "\n",
              "[30 rows x 4 columns]"
            ]
          },
          "metadata": {
            "tags": []
          },
          "execution_count": 114
        }
      ]
    },
    {
      "cell_type": "code",
      "metadata": {
        "id": "w5FZ9Hw6lXaE",
        "outputId": "eb3328cd-e086-4eeb-e048-4599d304e01d",
        "colab": {
          "base_uri": "https://localhost:8080/",
          "height": 34
        }
      },
      "source": [
        "curso = 'Medicina'\n",
        "linha = dados.query(\"nome==@curso\").iloc[0]\n",
        "vagas = linha['vagas']\n",
        "candidatos = linha['candidatos']\n",
        "vagas, candidatos"
      ],
      "execution_count": 115,
      "outputs": [
        {
          "output_type": "execute_result",
          "data": {
            "text/plain": [
              "(122, 15794)"
            ]
          },
          "metadata": {
            "tags": []
          },
          "execution_count": 115
        }
      ]
    },
    {
      "cell_type": "code",
      "metadata": {
        "id": "edtlirOllpis",
        "outputId": "854ffb33-e7ab-4512-cb93-c132f4938a69",
        "colab": {
          "base_uri": "https://localhost:8080/",
          "height": 51
        }
      },
      "source": [
        "import numpy as np\n",
        "\n",
        "np.random.seed(537846)\n",
        "\n",
        "def gera(media, desvio_padrao, candidatos):\n",
        "  return np.random.normal(media, desvio_padrao, candidatos)\n",
        "\n",
        "proprio_esforco = gera(70, 10, candidatos)\n",
        "proprio_esforco"
      ],
      "execution_count": 116,
      "outputs": [
        {
          "output_type": "execute_result",
          "data": {
            "text/plain": [
              "array([68.54575938, 73.8392757 , 52.17456233, ..., 80.92326482,\n",
              "       64.31312253, 72.88962942])"
            ]
          },
          "metadata": {
            "tags": []
          },
          "execution_count": 116
        }
      ]
    },
    {
      "cell_type": "code",
      "metadata": {
        "id": "raIeWph5mED-",
        "outputId": "f16413c1-0b67-46f7-8f8a-b94f1e931716",
        "colab": {
          "base_uri": "https://localhost:8080/",
          "height": 428
        }
      },
      "source": [
        "import seaborn as sns\n",
        "import matplotlib.pyplot as plt\n",
        "\n",
        "plt.figure(figsize=(12,6))\n",
        "sns.distplot(proprio_esforco)\n",
        "plt.show()"
      ],
      "execution_count": 117,
      "outputs": [
        {
          "output_type": "stream",
          "text": [
            "/usr/local/lib/python3.6/dist-packages/seaborn/distributions.py:2551: FutureWarning: `distplot` is a deprecated function and will be removed in a future version. Please adapt your code to use either `displot` (a figure-level function with similar flexibility) or `histplot` (an axes-level function for histograms).\n",
            "  warnings.warn(msg, FutureWarning)\n"
          ],
          "name": "stderr"
        },
        {
          "output_type": "display_data",
          "data": {
            "image/png": "[encoded data removed]",
            "text/plain": [
              "<Figure size 864x432 with 1 Axes>"
            ]
          },
          "metadata": {
            "tags": [],
            "needs_background": "light"
          }
        }
      ]
    },
    {
      "cell_type": "code",
      "metadata": {
        "id": "AY9rEQ7LmhjD",
        "outputId": "29540aae-e498-4a7c-bcef-cb1942bdc7e8",
        "colab": {
          "base_uri": "https://localhost:8080/",
          "height": 51
        }
      },
      "source": [
        "import numpy as np\n",
        "\n",
        "def gera_sorte(candidatos):\n",
        "  # DESAFIO: inserir a desigualdade\n",
        "  return np.random.uniform(0, 100, candidatos)\n",
        "\n",
        "sorte = gera_sorte(candidatos)\n",
        "sorte"
      ],
      "execution_count": 118,
      "outputs": [
        {
          "output_type": "execute_result",
          "data": {
            "text/plain": [
              "array([42.03700341, 67.04055542, 50.72347161, ..., 50.16007514,\n",
              "       50.86301304, 68.26186712])"
            ]
          },
          "metadata": {
            "tags": []
          },
          "execution_count": 118
        }
      ]
    },
    {
      "cell_type": "code",
      "metadata": {
        "id": "A-NL0ZHYnA7N",
        "outputId": "d4e43490-dc5e-4571-b1b1-de7e2c2d43e6",
        "colab": {
          "base_uri": "https://localhost:8080/",
          "height": 428
        }
      },
      "source": [
        "import seaborn as sns\n",
        "import matplotlib.pyplot as plt\n",
        "\n",
        "plt.figure(figsize=(12,6))\n",
        "sns.distplot(sorte)\n",
        "plt.show()"
      ],
      "execution_count": 119,
      "outputs": [
        {
          "output_type": "stream",
          "text": [
            "/usr/local/lib/python3.6/dist-packages/seaborn/distributions.py:2551: FutureWarning: `distplot` is a deprecated function and will be removed in a future version. Please adapt your code to use either `displot` (a figure-level function with similar flexibility) or `histplot` (an axes-level function for histograms).\n",
            "  warnings.warn(msg, FutureWarning)\n"
          ],
          "name": "stderr"
        },
        {
          "output_type": "display_data",
          "data": {
            "image/png": "[encoded data removed]",
            "text/plain": [
              "<Figure size 864x432 with 1 Axes>"
            ]
          },
          "metadata": {
            "tags": [],
            "needs_background": "light"
          }
        }
      ]
    },
    {
      "cell_type": "code",
      "metadata": {
        "id": "6kn6CsL8nCyk"
      },
      "source": [
        "def gera_df_candidatos(proprio_esforco, sorte, vagas, fator_sorte = 0.05, identificador = None):\n",
        "  dados_gerais = np.array([proprio_esforco, sorte]).T\n",
        "  candidatos_gerais = pd.DataFrame(dados_gerais, columns=[\"proprio_esforco\", \"sorte\"])\n",
        "  candidatos_gerais = candidatos_gerais.sort_values(\"proprio_esforco\", ascending=False)\n",
        "  if identificador is None:\n",
        "    identificador = range(len(candidatos_gerais))\n",
        "  candidatos_gerais[\"identificador\"] = identificador\n",
        "  candidatos_gerais[\"nota_final\"] = candidatos_gerais[\"proprio_esforco\"] * (1-fator_sorte) + candidatos_gerais[\"sorte\"] * fator_sorte\n",
        "\n",
        "  selecionadas_esforco_e_sorte = candidatos_gerais.sort_values(\"nota_final\", ascending=False).head(vagas)[\"identificador\"]\n",
        "  selecionadas_esforco = candidatos_gerais.head(vagas)[\"identificador\"]\n",
        "  return candidatos_gerais, selecionadas_esforco, selecionadas_esforco_e_sorte"
      ],
      "execution_count": 141,
      "outputs": []
    },
    {
      "cell_type": "code",
      "metadata": {
        "id": "0nSPgIqOnjId",
        "outputId": "dab3b9c5-1bf6-43bd-fec5-6c93de0bed95",
        "colab": {
          "base_uri": "https://localhost:8080/",
          "height": 411
        }
      },
      "source": [
        "candidatos_gerais, selecionadas_esforco, selecionadas_esforco_sorte = gera_df_candidatos(proprio_esforco, sorte, vagas, 0.05)\n",
        "selecionadas_esforco, selecionadas_esforco_sorte"
      ],
      "execution_count": 142,
      "outputs": [
        {
          "output_type": "execute_result",
          "data": {
            "text/plain": [
              "(1132       0\n",
              " 4149       1\n",
              " 14303      2\n",
              " 6593       3\n",
              " 11130      4\n",
              "         ... \n",
              " 10862    117\n",
              " 14045    118\n",
              " 13295    119\n",
              " 12156    120\n",
              " 10617    121\n",
              " Name: identificador, Length: 122, dtype: int64, 1132       0\n",
              " 4149       1\n",
              " 14303      2\n",
              " 6593       3\n",
              " 11130      4\n",
              "         ... \n",
              " 5151      93\n",
              " 15662     85\n",
              " 13536    203\n",
              " 15311    142\n",
              " 7858     106\n",
              " Name: identificador, Length: 122, dtype: int64)"
            ]
          },
          "metadata": {
            "tags": []
          },
          "execution_count": 142
        }
      ]
    },
    {
      "cell_type": "code",
      "metadata": {
        "id": "UbDMrp1JpNH0",
        "outputId": "834da545-1519-4732-dd2b-41269671a42d",
        "colab": {
          "base_uri": "https://localhost:8080/",
          "height": 71
        }
      },
      "source": [
        "def calcula_resultado(candidatos, vagas, conjunto1, conjunto2, debug = True):\n",
        "  comum = len(np.intersect1d(conjunto1, conjunto2))\n",
        "  diferentes = vagas - comum\n",
        "  proporcao_esforco_e_sorte = diferentes / vagas * 100\n",
        "  if debug:\n",
        "    print(f\"Com {candidatos} candidatas, {vagas} vagas, somente {comum} passaram por 'puro esforco', outras {diferentes} passaram com esforco e sorte. {proporcao_esforco_e_sorte:.4}% precisaram de sorte.\")\n",
        "  return proporcao_esforco_e_sorte\n",
        "\n",
        "calcula_resultado(candidatos, vagas, selecionadas_esforco, selecionadas_esforco_sorte)"
      ],
      "execution_count": 156,
      "outputs": [
        {
          "output_type": "stream",
          "text": [
            "Com 15794 candidatas, 122 vagas, somente 101 passaram por 'puro esforco', outras 21 passaram com esforco e sorte. 17.21% precisaram de sorte.\n"
          ],
          "name": "stdout"
        },
        {
          "output_type": "execute_result",
          "data": {
            "text/plain": [
              "17.21311475409836"
            ]
          },
          "metadata": {
            "tags": []
          },
          "execution_count": 156
        }
      ]
    },
    {
      "cell_type": "code",
      "metadata": {
        "id": "OJGSYHEeqSuE"
      },
      "source": [
        "# DESAFIO: parsear\n",
        "# https://www.fuvest.br/wp-content/uploads/fuvest_2020_nota_de_corte.pdf"
      ],
      "execution_count": 151,
      "outputs": []
    },
    {
      "cell_type": "code",
      "metadata": {
        "id": "MpJz9e1JapUC"
      },
      "source": [
        "corte_segunda_fase = 303+141+88\n"
      ],
      "execution_count": 152,
      "outputs": []
    },
    {
      "cell_type": "code",
      "metadata": {
        "id": "ADjrcSsuaW9N",
        "outputId": "7bef71d2-d0ff-45bd-96a5-eddd95b3d0cb",
        "colab": {
          "base_uri": "https://localhost:8080/",
          "height": 34
        }
      },
      "source": [
        "\n",
        "def simulacao_inteira(candidatos: int, corte_segunda_fase: int, vagas: int, fator_sorte: float):\n",
        "  proprio_esforco = gera(70, 10, candidatos)\n",
        "  sorte = gera_sorte(candidatos)\n",
        "  candidatos_gerais_fase1, selecionadas_esforco_fase1, selecionadas_esforco_sorte_fase1 = gera_df_candidatos(proprio_esforco, sorte, corte_segunda_fase, fator_sorte)\n",
        "\n",
        "  resultado_fase_1_geral = candidatos_gerais_fase1.set_index(\"identificador\")\n",
        "  \n",
        "  selecionadas_esforco_final = selecionadas_esforco_fase1[:vagas]\n",
        "\n",
        "  candidatos_fase_2 = resultado_fase_1_geral.loc[selecionadas_esforco_sorte_fase1]\n",
        "  _, _, selecionadas_esforco_sorte_fase2 = gera_df_candidatos(candidatos_fase_2[\"proprio_esforco\"], candidatos_fase_2[\"sorte\"], vagas, fator_sorte, candidatos_fase_2.index)\n",
        "  return calcula_resultado(candidatos, vagas, selecionadas_esforco_final, selecionadas_esforco_sorte_fase2, debug=False)\n",
        "\n",
        "\n",
        "simulacao_inteira(candidatos, corte_segunda_fase, vagas, 0.05)\n"
      ],
      "execution_count": 160,
      "outputs": [
        {
          "output_type": "execute_result",
          "data": {
            "text/plain": [
              "29.508196721311474"
            ]
          },
          "metadata": {
            "tags": []
          },
          "execution_count": 160
        }
      ]
    },
    {
      "cell_type": "code",
      "metadata": {
        "id": "vCHMqn3usR8v"
      },
      "source": [
        "from tqdm import tqdm"
      ],
      "execution_count": 161,
      "outputs": []
    },
    {
      "cell_type": "code",
      "metadata": {
        "id": "HJ8roMCzd0fk",
        "outputId": "a239422c-049e-4472-903e-31bb2d095bef",
        "colab": {
          "base_uri": "https://localhost:8080/",
          "height": 387
        }
      },
      "source": [
        "porcentagem_precisou_de_sorte = [simulacao_inteira(candidatos, corte_segunda_fase, vagas, 0.05) for i in tqdm(range(1000))]\n",
        "print(np.mean(porcentagem_precisou_de_sorte))\n",
        "plt.title(\"Medicina\")\n",
        "sns.distplot(porcentagem_precisou_de_sorte)"
      ],
      "execution_count": 166,
      "outputs": [
        {
          "output_type": "stream",
          "text": [
            "100%|██████████| 1000/1000 [00:14<00:00, 68.26it/s]"
          ],
          "name": "stderr"
        },
        {
          "output_type": "stream",
          "text": [
            "23.458196721311477\n"
          ],
          "name": "stdout"
        },
        {
          "output_type": "stream",
          "text": [
            "\n",
            "/usr/local/lib/python3.6/dist-packages/seaborn/distributions.py:2551: FutureWarning: `distplot` is a deprecated function and will be removed in a future version. Please adapt your code to use either `displot` (a figure-level function with similar flexibility) or `histplot` (an axes-level function for histograms).\n",
            "  warnings.warn(msg, FutureWarning)\n"
          ],
          "name": "stderr"
        },
        {
          "output_type": "execute_result",
          "data": {
            "text/plain": [
              "<matplotlib.axes._subplots.AxesSubplot at 0x7fb92587db38>"
            ]
          },
          "metadata": {
            "tags": []
          },
          "execution_count": 166
        },
        {
          "output_type": "display_data",
          "data": {
            "image/png": "[encoded data removed]",
            "text/plain": [
              "<Figure size 432x288 with 1 Axes>"
            ]
          },
          "metadata": {
            "tags": [],
            "needs_background": "light"
          }
        }
      ]
    },
    {
      "cell_type": "code",
      "metadata": {
        "id": "mHlw19mheg7N",
        "outputId": "e0cb46f4-bc64-4457-fb51-72d25ea2b2b4",
        "colab": {
          "base_uri": "https://localhost:8080/",
          "height": 387
        }
      },
      "source": [
        "porcentagem_precisou_de_sorte = [simulacao_inteira(2125+943+233, 648+287+149, 264, 0.05) for i in tqdm(range(1000))]\n",
        "print(np.mean(porcentagem_precisou_de_sorte))\n",
        "plt.title(\"Computação\")\n",
        "sns.distplot(porcentagem_precisou_de_sorte)"
      ],
      "execution_count": 167,
      "outputs": [
        {
          "output_type": "stream",
          "text": [
            "100%|██████████| 1000/1000 [00:09<00:00, 110.04it/s]\n"
          ],
          "name": "stderr"
        },
        {
          "output_type": "stream",
          "text": [
            "16.062878787878788\n"
          ],
          "name": "stdout"
        },
        {
          "output_type": "stream",
          "text": [
            "/usr/local/lib/python3.6/dist-packages/seaborn/distributions.py:2551: FutureWarning: `distplot` is a deprecated function and will be removed in a future version. Please adapt your code to use either `displot` (a figure-level function with similar flexibility) or `histplot` (an axes-level function for histograms).\n",
            "  warnings.warn(msg, FutureWarning)\n"
          ],
          "name": "stderr"
        },
        {
          "output_type": "execute_result",
          "data": {
            "text/plain": [
              "<matplotlib.axes._subplots.AxesSubplot at 0x7fb9255a0438>"
            ]
          },
          "metadata": {
            "tags": []
          },
          "execution_count": 167
        },
        {
          "output_type": "display_data",
          "data": {
            "image/png": "[encoded data removed]",
            "text/plain": [
              "<Figure size 432x288 with 1 Axes>"
            ]
          },
          "metadata": {
            "tags": [],
            "needs_background": "light"
          }
        }
      ]
    },
    {
      "cell_type": "code",
      "metadata": {
        "id": "tLOIRNFmeE9C"
      },
      "source": [
        "# desafio, calcular para outra area"
      ],
      "execution_count": 165,
      "outputs": []
    },
    {
      "cell_type": "code",
      "metadata": {
        "id": "QQu_9bAweMXS"
      },
      "source": [
        "resultados = []\n",
        "for i in tqdm(range(20)):\n",
        "  fator_sorte = i / 100\n",
        "  porcentagem_precisou_de_sorte = [simulacao_inteira(candidatos, corte_segunda_fase, vagas, fator_sorte) for i in range(1000)]\n",
        "  resultados.append([fator_sorte, np.mean(porcentagem_precisou_de_sorte)])\n"
      ],
      "execution_count": null,
      "outputs": []
    },
    {
      "cell_type": "code",
      "metadata": {
        "id": "kldNJXrhfjVu",
        "outputId": "ba6934fb-c898-4883-f2ea-0440c8261683",
        "colab": {
          "base_uri": "https://localhost:8080/",
          "height": 312
        }
      },
      "source": [
        "\n",
        "df = pd.DataFrame(resultados, columns=[\"fator sorte\", \"% de pessoas que precisaram/nao tiveram sorte\"])\n",
        "plt.title(\"Medicina\")\n",
        "sns.lineplot(data=df, x=\"fator sorte\", y=\"% de pessoas que precisaram/nao tiveram sorte\")"
      ],
      "execution_count": 170,
      "outputs": [
        {
          "output_type": "execute_result",
          "data": {
            "text/plain": [
              "<matplotlib.axes._subplots.AxesSubplot at 0x7fb92518f748>"
            ]
          },
          "metadata": {
            "tags": []
          },
          "execution_count": 170
        },
        {
          "output_type": "display_data",
          "data": {
            "image/png": "[encoded data removed]",
            "text/plain": [
              "<Figure size 432x288 with 1 Axes>"
            ]
          },
          "metadata": {
            "tags": [],
            "needs_background": "light"
          }
        }
      ]
    },
    {
      "cell_type": "code",
      "metadata": {
        "id": "vbYe8_rhhOkc"
      },
      "source": [
        ""
      ],
      "execution_count": null,
      "outputs": []
    }
  ]
}